{
 "cells": [
  {
   "cell_type": "markdown",
   "id": "1a457635",
   "metadata": {},
   "source": [
    "# 0. Introduction\n",
    "In this notebook, we are going to perform data analysis and build machine learning model from customer churn data. The goal of this project is to build a model which can predict whether or not a customer will stop using the services of the business which can lead to significant losses\n",
    "\n",
    "\n",
    "###  Customer Churn\n",
    "\n",
    "- Customer churn is a term used when a customer decides to stop using the services of the business or ends the relationship with a company\n",
    "\n",
    "- Predicting customer churn is critical for a company to be able to effectively retain customers. It is more costly to acquire new customers than to retain existing ones. \n",
    "\n",
    "- The goal of this project is to predict which customers are more likely to change and take actions accordingly\n",
    "\n",
    "## Dataset\n",
    "The dataset information is avaliable on [kaggle](https://www.kaggle.com/c/customer-churn-prediction-2020/overview)\n",
    "\n",
    "### Data Overview\n",
    "The training dataset contains 4250 samples and 19 features (independent variables) and the Churn column indicates the class of the sample\n",
    "\n",
    "Features:\n",
    "1. state : 2-letter code of the US state of customer residence\n",
    "2. account_length: Number of months the customer has been with the current telco provider\n",
    "3. area_code: area_code_AAA\" where AAA = 3 digit area code.\n",
    "4. international_plan: The customer has international plan.\n",
    "5. voice_mail_plan: The customer has voice mail plan.\n",
    "6. number_vmail_messages: Number of voice-mail messages.\n",
    "7. total_day_minutes: Total minutes of day calls.\n",
    "8. total_day_calls: Total minutes of day calls.\n",
    "9. total_day_charge: otal charge of day calls.\n",
    "10. total_eve_minutes: Total minutes of evening calls.\n",
    "11. total_eve_calls: Total number of evening calls.\n",
    "12. total_eve_charge: Total charge of evening calls.\n",
    "13. total_night_minutes: Total minutes of night calls.\n",
    "14. total_night_calls: Total number of night calls.\n",
    "15. total_night_charge: Total charge of night calls.\n",
    "16. total_intl_minutes: Total minutes of international calls.\n",
    "17. total_intl_calls: Total number of international calls.\n",
    "18. total_intl_charge: Total charge of international calls\n",
    "19. number_customer_service_calls\": Number of calls to customer service\n",
    "20. churn : Customer churn - target variable."
   ]
  },
  {
   "cell_type": "markdown",
   "id": "95c7fe2e",
   "metadata": {},
   "source": [
    "## 1. Import Libraries\n",
    "Libraries are essentially extensions to Python that consist of functions that are handy to have when we are performing our analysis."
   ]
  },
  {
   "cell_type": "code",
   "execution_count": 1,
   "id": "e2111166",
   "metadata": {},
   "outputs": [],
   "source": [
    "# Data wrangling\n",
    "import pandas as pd\n",
    "import numpy as np\n",
    "\n",
    "# Data visualisation\n",
    "import seaborn as sns\n",
    "import matplotlib.pyplot as plt\n",
    "\n",
    "# Machine learning models\n",
    "from sklearn.ensemble import RandomForestClassifier\n",
    "from sklearn.ensemble import GradientBoostingClassifier\n",
    "from xgboost import XGBClassifier\n",
    "from sklearn.model_selection import train_test_split\n",
    "\n",
    "# Model evaluation\n",
    "from sklearn.metrics import recall_score\n",
    "from sklearn.metrics import plot_confusion_matrix\n",
    "from sklearn.metrics import precision_score\n",
    "from sklearn.metrics import plot_roc_curve\n",
    "from sklearn.metrics import accuracy_score\n",
    "from sklearn.metrics import roc_auc_score\n",
    "# Hyperparameter tuning\n",
    "from sklearn.model_selection import GridSearchCV\n",
    "\n",
    "# Remove warnings\n",
    "import warnings\n",
    "warnings.filterwarnings('ignore')"
   ]
  },
  {
   "cell_type": "markdown",
   "id": "ec3e39c5",
   "metadata": {},
   "source": [
    "### 2. Import and read data\n"
   ]
  },
  {
   "cell_type": "code",
   "execution_count": 2,
   "id": "e0684337",
   "metadata": {},
   "outputs": [],
   "source": [
    "# Training data\n",
    "train = pd.read_csv('train.csv')\n"
   ]
  },
  {
   "cell_type": "markdown",
   "id": "ada5ea29",
   "metadata": {},
   "source": [
    "Let's have a look at the datasets"
   ]
  },
  {
   "cell_type": "code",
   "execution_count": 3,
   "id": "ccf0aae4",
   "metadata": {
    "scrolled": true
   },
   "outputs": [
    {
     "data": {
      "text/html": [
       "<div>\n",
       "<style scoped>\n",
       "    .dataframe tbody tr th:only-of-type {\n",
       "        vertical-align: middle;\n",
       "    }\n",
       "\n",
       "    .dataframe tbody tr th {\n",
       "        vertical-align: top;\n",
       "    }\n",
       "\n",
       "    .dataframe thead th {\n",
       "        text-align: right;\n",
       "    }\n",
       "</style>\n",
       "<table border=\"1\" class=\"dataframe\">\n",
       "  <thead>\n",
       "    <tr style=\"text-align: right;\">\n",
       "      <th></th>\n",
       "      <th>state</th>\n",
       "      <th>account_length</th>\n",
       "      <th>area_code</th>\n",
       "      <th>international_plan</th>\n",
       "      <th>voice_mail_plan</th>\n",
       "      <th>number_vmail_messages</th>\n",
       "      <th>total_day_minutes</th>\n",
       "      <th>total_day_calls</th>\n",
       "      <th>total_day_charge</th>\n",
       "      <th>total_eve_minutes</th>\n",
       "      <th>total_eve_calls</th>\n",
       "      <th>total_eve_charge</th>\n",
       "      <th>total_night_minutes</th>\n",
       "      <th>total_night_calls</th>\n",
       "      <th>total_night_charge</th>\n",
       "      <th>total_intl_minutes</th>\n",
       "      <th>total_intl_calls</th>\n",
       "      <th>total_intl_charge</th>\n",
       "      <th>number_customer_service_calls</th>\n",
       "      <th>churn</th>\n",
       "    </tr>\n",
       "  </thead>\n",
       "  <tbody>\n",
       "    <tr>\n",
       "      <th>0</th>\n",
       "      <td>OH</td>\n",
       "      <td>107</td>\n",
       "      <td>area_code_415</td>\n",
       "      <td>no</td>\n",
       "      <td>yes</td>\n",
       "      <td>26</td>\n",
       "      <td>161.6</td>\n",
       "      <td>123</td>\n",
       "      <td>27.47</td>\n",
       "      <td>195.5</td>\n",
       "      <td>103</td>\n",
       "      <td>16.62</td>\n",
       "      <td>254.4</td>\n",
       "      <td>103</td>\n",
       "      <td>11.45</td>\n",
       "      <td>13.7</td>\n",
       "      <td>3</td>\n",
       "      <td>3.70</td>\n",
       "      <td>1</td>\n",
       "      <td>no</td>\n",
       "    </tr>\n",
       "    <tr>\n",
       "      <th>1</th>\n",
       "      <td>NJ</td>\n",
       "      <td>137</td>\n",
       "      <td>area_code_415</td>\n",
       "      <td>no</td>\n",
       "      <td>no</td>\n",
       "      <td>0</td>\n",
       "      <td>243.4</td>\n",
       "      <td>114</td>\n",
       "      <td>41.38</td>\n",
       "      <td>121.2</td>\n",
       "      <td>110</td>\n",
       "      <td>10.30</td>\n",
       "      <td>162.6</td>\n",
       "      <td>104</td>\n",
       "      <td>7.32</td>\n",
       "      <td>12.2</td>\n",
       "      <td>5</td>\n",
       "      <td>3.29</td>\n",
       "      <td>0</td>\n",
       "      <td>no</td>\n",
       "    </tr>\n",
       "    <tr>\n",
       "      <th>2</th>\n",
       "      <td>OH</td>\n",
       "      <td>84</td>\n",
       "      <td>area_code_408</td>\n",
       "      <td>yes</td>\n",
       "      <td>no</td>\n",
       "      <td>0</td>\n",
       "      <td>299.4</td>\n",
       "      <td>71</td>\n",
       "      <td>50.90</td>\n",
       "      <td>61.9</td>\n",
       "      <td>88</td>\n",
       "      <td>5.26</td>\n",
       "      <td>196.9</td>\n",
       "      <td>89</td>\n",
       "      <td>8.86</td>\n",
       "      <td>6.6</td>\n",
       "      <td>7</td>\n",
       "      <td>1.78</td>\n",
       "      <td>2</td>\n",
       "      <td>no</td>\n",
       "    </tr>\n",
       "    <tr>\n",
       "      <th>3</th>\n",
       "      <td>OK</td>\n",
       "      <td>75</td>\n",
       "      <td>area_code_415</td>\n",
       "      <td>yes</td>\n",
       "      <td>no</td>\n",
       "      <td>0</td>\n",
       "      <td>166.7</td>\n",
       "      <td>113</td>\n",
       "      <td>28.34</td>\n",
       "      <td>148.3</td>\n",
       "      <td>122</td>\n",
       "      <td>12.61</td>\n",
       "      <td>186.9</td>\n",
       "      <td>121</td>\n",
       "      <td>8.41</td>\n",
       "      <td>10.1</td>\n",
       "      <td>3</td>\n",
       "      <td>2.73</td>\n",
       "      <td>3</td>\n",
       "      <td>no</td>\n",
       "    </tr>\n",
       "    <tr>\n",
       "      <th>4</th>\n",
       "      <td>MA</td>\n",
       "      <td>121</td>\n",
       "      <td>area_code_510</td>\n",
       "      <td>no</td>\n",
       "      <td>yes</td>\n",
       "      <td>24</td>\n",
       "      <td>218.2</td>\n",
       "      <td>88</td>\n",
       "      <td>37.09</td>\n",
       "      <td>348.5</td>\n",
       "      <td>108</td>\n",
       "      <td>29.62</td>\n",
       "      <td>212.6</td>\n",
       "      <td>118</td>\n",
       "      <td>9.57</td>\n",
       "      <td>7.5</td>\n",
       "      <td>7</td>\n",
       "      <td>2.03</td>\n",
       "      <td>3</td>\n",
       "      <td>no</td>\n",
       "    </tr>\n",
       "  </tbody>\n",
       "</table>\n",
       "</div>"
      ],
      "text/plain": [
       "  state  account_length      area_code international_plan voice_mail_plan  \\\n",
       "0    OH             107  area_code_415                 no             yes   \n",
       "1    NJ             137  area_code_415                 no              no   \n",
       "2    OH              84  area_code_408                yes              no   \n",
       "3    OK              75  area_code_415                yes              no   \n",
       "4    MA             121  area_code_510                 no             yes   \n",
       "\n",
       "   number_vmail_messages  total_day_minutes  total_day_calls  \\\n",
       "0                     26              161.6              123   \n",
       "1                      0              243.4              114   \n",
       "2                      0              299.4               71   \n",
       "3                      0              166.7              113   \n",
       "4                     24              218.2               88   \n",
       "\n",
       "   total_day_charge  total_eve_minutes  total_eve_calls  total_eve_charge  \\\n",
       "0             27.47              195.5              103             16.62   \n",
       "1             41.38              121.2              110             10.30   \n",
       "2             50.90               61.9               88              5.26   \n",
       "3             28.34              148.3              122             12.61   \n",
       "4             37.09              348.5              108             29.62   \n",
       "\n",
       "   total_night_minutes  total_night_calls  total_night_charge  \\\n",
       "0                254.4                103               11.45   \n",
       "1                162.6                104                7.32   \n",
       "2                196.9                 89                8.86   \n",
       "3                186.9                121                8.41   \n",
       "4                212.6                118                9.57   \n",
       "\n",
       "   total_intl_minutes  total_intl_calls  total_intl_charge  \\\n",
       "0                13.7                 3               3.70   \n",
       "1                12.2                 5               3.29   \n",
       "2                 6.6                 7               1.78   \n",
       "3                10.1                 3               2.73   \n",
       "4                 7.5                 7               2.03   \n",
       "\n",
       "   number_customer_service_calls churn  \n",
       "0                              1    no  \n",
       "1                              0    no  \n",
       "2                              2    no  \n",
       "3                              3    no  \n",
       "4                              3    no  "
      ]
     },
     "execution_count": 3,
     "metadata": {},
     "output_type": "execute_result"
    }
   ],
   "source": [
    "# First five rows of training data\n",
    "train.head()"
   ]
  },
  {
   "cell_type": "markdown",
   "id": "9e982301",
   "metadata": {},
   "source": [
    "## 3. Exploratory Data Analysis"
   ]
  },
  {
   "cell_type": "markdown",
   "id": "68d8dc5f",
   "metadata": {},
   "source": [
    "### 3.1 Unique values for each feature, data types, and summary statistics"
   ]
  },
  {
   "cell_type": "code",
   "execution_count": 4,
   "id": "6ab91f19",
   "metadata": {},
   "outputs": [
    {
     "name": "stdout",
     "output_type": "stream",
     "text": [
      "The number of values for feature state is: 51\n",
      "The number of values for feature account_length is: 215\n",
      "The number of values for feature area_code is: 3 -- ['area_code_408' 'area_code_415' 'area_code_510']\n",
      "The number of values for feature international_plan is: 2 -- ['no' 'yes']\n",
      "The number of values for feature voice_mail_plan is: 2 -- ['no' 'yes']\n",
      "The number of values for feature number_vmail_messages is: 46\n",
      "The number of values for feature total_day_minutes is: 1843\n",
      "The number of values for feature total_day_calls is: 120\n",
      "The number of values for feature total_day_charge is: 1843\n",
      "The number of values for feature total_eve_minutes is: 1773\n",
      "The number of values for feature total_eve_calls is: 123\n",
      "The number of values for feature total_eve_charge is: 1572\n",
      "The number of values for feature total_night_minutes is: 1757\n",
      "The number of values for feature total_night_calls is: 128\n",
      "The number of values for feature total_night_charge is: 992\n",
      "The number of values for feature total_intl_minutes is: 168\n",
      "The number of values for feature total_intl_calls is: 21\n",
      "The number of values for feature total_intl_charge is: 168\n",
      "The number of values for feature number_customer_service_calls is: 10 -- [0 1 2 3 4 5 6 7 8 9]\n",
      "The number of values for feature churn is: 2 -- ['no' 'yes']\n"
     ]
    }
   ],
   "source": [
    "# Investigate all the elements whithin each Feature \n",
    "\n",
    "for col in train:\n",
    "    unique_values = np.unique(train[col])\n",
    "    nr_values = len(unique_values)\n",
    "    if nr_values <= 10:\n",
    "        print(\"The number of values for feature {} is: {} -- {}\".format(col, nr_values, unique_values))\n",
    "    else:\n",
    "        print(\"The number of values for feature {} is: {}\".format(col, nr_values))"
   ]
  },
  {
   "cell_type": "code",
   "execution_count": 5,
   "id": "d2e03369",
   "metadata": {},
   "outputs": [
    {
     "name": "stdout",
     "output_type": "stream",
     "text": [
      "<class 'pandas.core.frame.DataFrame'>\n",
      "RangeIndex: 4250 entries, 0 to 4249\n",
      "Data columns (total 20 columns):\n",
      " #   Column                         Non-Null Count  Dtype  \n",
      "---  ------                         --------------  -----  \n",
      " 0   state                          4250 non-null   object \n",
      " 1   account_length                 4250 non-null   int64  \n",
      " 2   area_code                      4250 non-null   object \n",
      " 3   international_plan             4250 non-null   object \n",
      " 4   voice_mail_plan                4250 non-null   object \n",
      " 5   number_vmail_messages          4250 non-null   int64  \n",
      " 6   total_day_minutes              4250 non-null   float64\n",
      " 7   total_day_calls                4250 non-null   int64  \n",
      " 8   total_day_charge               4250 non-null   float64\n",
      " 9   total_eve_minutes              4250 non-null   float64\n",
      " 10  total_eve_calls                4250 non-null   int64  \n",
      " 11  total_eve_charge               4250 non-null   float64\n",
      " 12  total_night_minutes            4250 non-null   float64\n",
      " 13  total_night_calls              4250 non-null   int64  \n",
      " 14  total_night_charge             4250 non-null   float64\n",
      " 15  total_intl_minutes             4250 non-null   float64\n",
      " 16  total_intl_calls               4250 non-null   int64  \n",
      " 17  total_intl_charge              4250 non-null   float64\n",
      " 18  number_customer_service_calls  4250 non-null   int64  \n",
      " 19  churn                          4250 non-null   object \n",
      "dtypes: float64(8), int64(7), object(5)\n",
      "memory usage: 664.2+ KB\n"
     ]
    }
   ],
   "source": [
    "# Non-null count and data types of the training and test set\n",
    "train.info()"
   ]
  },
  {
   "cell_type": "code",
   "execution_count": 6,
   "id": "d9134297",
   "metadata": {},
   "outputs": [
    {
     "data": {
      "text/plain": [
       "state                            0\n",
       "account_length                   0\n",
       "area_code                        0\n",
       "international_plan               0\n",
       "voice_mail_plan                  0\n",
       "number_vmail_messages            0\n",
       "total_day_minutes                0\n",
       "total_day_calls                  0\n",
       "total_day_charge                 0\n",
       "total_eve_minutes                0\n",
       "total_eve_calls                  0\n",
       "total_eve_charge                 0\n",
       "total_night_minutes              0\n",
       "total_night_calls                0\n",
       "total_night_charge               0\n",
       "total_intl_minutes               0\n",
       "total_intl_calls                 0\n",
       "total_intl_charge                0\n",
       "number_customer_service_calls    0\n",
       "churn                            0\n",
       "dtype: int64"
      ]
     },
     "execution_count": 6,
     "metadata": {},
     "output_type": "execute_result"
    }
   ],
   "source": [
    "# Missing data in training set by columns\n",
    "train.isnull().sum()"
   ]
  },
  {
   "cell_type": "code",
   "execution_count": 7,
   "id": "b56e93c4",
   "metadata": {},
   "outputs": [
    {
     "data": {
      "text/html": [
       "<div>\n",
       "<style scoped>\n",
       "    .dataframe tbody tr th:only-of-type {\n",
       "        vertical-align: middle;\n",
       "    }\n",
       "\n",
       "    .dataframe tbody tr th {\n",
       "        vertical-align: top;\n",
       "    }\n",
       "\n",
       "    .dataframe thead th {\n",
       "        text-align: right;\n",
       "    }\n",
       "</style>\n",
       "<table border=\"1\" class=\"dataframe\">\n",
       "  <thead>\n",
       "    <tr style=\"text-align: right;\">\n",
       "      <th></th>\n",
       "      <th>account_length</th>\n",
       "      <th>number_vmail_messages</th>\n",
       "      <th>total_day_minutes</th>\n",
       "      <th>total_day_calls</th>\n",
       "      <th>total_day_charge</th>\n",
       "      <th>total_eve_minutes</th>\n",
       "      <th>total_eve_calls</th>\n",
       "      <th>total_eve_charge</th>\n",
       "      <th>total_night_minutes</th>\n",
       "      <th>total_night_calls</th>\n",
       "      <th>total_night_charge</th>\n",
       "      <th>total_intl_minutes</th>\n",
       "      <th>total_intl_calls</th>\n",
       "      <th>total_intl_charge</th>\n",
       "      <th>number_customer_service_calls</th>\n",
       "    </tr>\n",
       "  </thead>\n",
       "  <tbody>\n",
       "    <tr>\n",
       "      <th>count</th>\n",
       "      <td>4250.000000</td>\n",
       "      <td>4250.000000</td>\n",
       "      <td>4250.000000</td>\n",
       "      <td>4250.000000</td>\n",
       "      <td>4250.000000</td>\n",
       "      <td>4250.000000</td>\n",
       "      <td>4250.000000</td>\n",
       "      <td>4250.000000</td>\n",
       "      <td>4250.000000</td>\n",
       "      <td>4250.000000</td>\n",
       "      <td>4250.000000</td>\n",
       "      <td>4250.000000</td>\n",
       "      <td>4250.000000</td>\n",
       "      <td>4250.000000</td>\n",
       "      <td>4250.000000</td>\n",
       "    </tr>\n",
       "    <tr>\n",
       "      <th>mean</th>\n",
       "      <td>100.236235</td>\n",
       "      <td>7.631765</td>\n",
       "      <td>180.259600</td>\n",
       "      <td>99.907294</td>\n",
       "      <td>30.644682</td>\n",
       "      <td>200.173906</td>\n",
       "      <td>100.176471</td>\n",
       "      <td>17.015012</td>\n",
       "      <td>200.527882</td>\n",
       "      <td>99.839529</td>\n",
       "      <td>9.023892</td>\n",
       "      <td>10.256071</td>\n",
       "      <td>4.426353</td>\n",
       "      <td>2.769654</td>\n",
       "      <td>1.559059</td>\n",
       "    </tr>\n",
       "    <tr>\n",
       "      <th>std</th>\n",
       "      <td>39.698401</td>\n",
       "      <td>13.439882</td>\n",
       "      <td>54.012373</td>\n",
       "      <td>19.850817</td>\n",
       "      <td>9.182096</td>\n",
       "      <td>50.249518</td>\n",
       "      <td>19.908591</td>\n",
       "      <td>4.271212</td>\n",
       "      <td>50.353548</td>\n",
       "      <td>20.093220</td>\n",
       "      <td>2.265922</td>\n",
       "      <td>2.760102</td>\n",
       "      <td>2.463069</td>\n",
       "      <td>0.745204</td>\n",
       "      <td>1.311434</td>\n",
       "    </tr>\n",
       "    <tr>\n",
       "      <th>min</th>\n",
       "      <td>1.000000</td>\n",
       "      <td>0.000000</td>\n",
       "      <td>0.000000</td>\n",
       "      <td>0.000000</td>\n",
       "      <td>0.000000</td>\n",
       "      <td>0.000000</td>\n",
       "      <td>0.000000</td>\n",
       "      <td>0.000000</td>\n",
       "      <td>0.000000</td>\n",
       "      <td>0.000000</td>\n",
       "      <td>0.000000</td>\n",
       "      <td>0.000000</td>\n",
       "      <td>0.000000</td>\n",
       "      <td>0.000000</td>\n",
       "      <td>0.000000</td>\n",
       "    </tr>\n",
       "    <tr>\n",
       "      <th>25%</th>\n",
       "      <td>73.000000</td>\n",
       "      <td>0.000000</td>\n",
       "      <td>143.325000</td>\n",
       "      <td>87.000000</td>\n",
       "      <td>24.365000</td>\n",
       "      <td>165.925000</td>\n",
       "      <td>87.000000</td>\n",
       "      <td>14.102500</td>\n",
       "      <td>167.225000</td>\n",
       "      <td>86.000000</td>\n",
       "      <td>7.522500</td>\n",
       "      <td>8.500000</td>\n",
       "      <td>3.000000</td>\n",
       "      <td>2.300000</td>\n",
       "      <td>1.000000</td>\n",
       "    </tr>\n",
       "    <tr>\n",
       "      <th>50%</th>\n",
       "      <td>100.000000</td>\n",
       "      <td>0.000000</td>\n",
       "      <td>180.450000</td>\n",
       "      <td>100.000000</td>\n",
       "      <td>30.680000</td>\n",
       "      <td>200.700000</td>\n",
       "      <td>100.000000</td>\n",
       "      <td>17.060000</td>\n",
       "      <td>200.450000</td>\n",
       "      <td>100.000000</td>\n",
       "      <td>9.020000</td>\n",
       "      <td>10.300000</td>\n",
       "      <td>4.000000</td>\n",
       "      <td>2.780000</td>\n",
       "      <td>1.000000</td>\n",
       "    </tr>\n",
       "    <tr>\n",
       "      <th>75%</th>\n",
       "      <td>127.000000</td>\n",
       "      <td>16.000000</td>\n",
       "      <td>216.200000</td>\n",
       "      <td>113.000000</td>\n",
       "      <td>36.750000</td>\n",
       "      <td>233.775000</td>\n",
       "      <td>114.000000</td>\n",
       "      <td>19.867500</td>\n",
       "      <td>234.700000</td>\n",
       "      <td>113.000000</td>\n",
       "      <td>10.560000</td>\n",
       "      <td>12.000000</td>\n",
       "      <td>6.000000</td>\n",
       "      <td>3.240000</td>\n",
       "      <td>2.000000</td>\n",
       "    </tr>\n",
       "    <tr>\n",
       "      <th>max</th>\n",
       "      <td>243.000000</td>\n",
       "      <td>52.000000</td>\n",
       "      <td>351.500000</td>\n",
       "      <td>165.000000</td>\n",
       "      <td>59.760000</td>\n",
       "      <td>359.300000</td>\n",
       "      <td>170.000000</td>\n",
       "      <td>30.540000</td>\n",
       "      <td>395.000000</td>\n",
       "      <td>175.000000</td>\n",
       "      <td>17.770000</td>\n",
       "      <td>20.000000</td>\n",
       "      <td>20.000000</td>\n",
       "      <td>5.400000</td>\n",
       "      <td>9.000000</td>\n",
       "    </tr>\n",
       "  </tbody>\n",
       "</table>\n",
       "</div>"
      ],
      "text/plain": [
       "       account_length  number_vmail_messages  total_day_minutes  \\\n",
       "count     4250.000000            4250.000000        4250.000000   \n",
       "mean       100.236235               7.631765         180.259600   \n",
       "std         39.698401              13.439882          54.012373   \n",
       "min          1.000000               0.000000           0.000000   \n",
       "25%         73.000000               0.000000         143.325000   \n",
       "50%        100.000000               0.000000         180.450000   \n",
       "75%        127.000000              16.000000         216.200000   \n",
       "max        243.000000              52.000000         351.500000   \n",
       "\n",
       "       total_day_calls  total_day_charge  total_eve_minutes  total_eve_calls  \\\n",
       "count      4250.000000       4250.000000        4250.000000      4250.000000   \n",
       "mean         99.907294         30.644682         200.173906       100.176471   \n",
       "std          19.850817          9.182096          50.249518        19.908591   \n",
       "min           0.000000          0.000000           0.000000         0.000000   \n",
       "25%          87.000000         24.365000         165.925000        87.000000   \n",
       "50%         100.000000         30.680000         200.700000       100.000000   \n",
       "75%         113.000000         36.750000         233.775000       114.000000   \n",
       "max         165.000000         59.760000         359.300000       170.000000   \n",
       "\n",
       "       total_eve_charge  total_night_minutes  total_night_calls  \\\n",
       "count       4250.000000          4250.000000        4250.000000   \n",
       "mean          17.015012           200.527882          99.839529   \n",
       "std            4.271212            50.353548          20.093220   \n",
       "min            0.000000             0.000000           0.000000   \n",
       "25%           14.102500           167.225000          86.000000   \n",
       "50%           17.060000           200.450000         100.000000   \n",
       "75%           19.867500           234.700000         113.000000   \n",
       "max           30.540000           395.000000         175.000000   \n",
       "\n",
       "       total_night_charge  total_intl_minutes  total_intl_calls  \\\n",
       "count         4250.000000         4250.000000       4250.000000   \n",
       "mean             9.023892           10.256071          4.426353   \n",
       "std              2.265922            2.760102          2.463069   \n",
       "min              0.000000            0.000000          0.000000   \n",
       "25%              7.522500            8.500000          3.000000   \n",
       "50%              9.020000           10.300000          4.000000   \n",
       "75%             10.560000           12.000000          6.000000   \n",
       "max             17.770000           20.000000         20.000000   \n",
       "\n",
       "       total_intl_charge  number_customer_service_calls  \n",
       "count        4250.000000                    4250.000000  \n",
       "mean            2.769654                       1.559059  \n",
       "std             0.745204                       1.311434  \n",
       "min             0.000000                       0.000000  \n",
       "25%             2.300000                       1.000000  \n",
       "50%             2.780000                       1.000000  \n",
       "75%             3.240000                       2.000000  \n",
       "max             5.400000                       9.000000  "
      ]
     },
     "execution_count": 7,
     "metadata": {},
     "output_type": "execute_result"
    }
   ],
   "source": [
    "# Summary statistics for training set \n",
    "\n",
    "train.describe()"
   ]
  },
  {
   "cell_type": "markdown",
   "id": "fc4ae05f",
   "metadata": {},
   "source": [
    "### 3.2 Feature Analysis"
   ]
  },
  {
   "cell_type": "markdown",
   "id": "249c4edc",
   "metadata": {},
   "source": [
    "### 3.2.1 Categorical variables\n",
    "Categorical variables in our dataset are churn, state, area code, international plan, voice mail plan"
   ]
  },
  {
   "cell_type": "markdown",
   "id": "4901efdc",
   "metadata": {},
   "source": [
    "### Categorical variable: Churn"
   ]
  },
  {
   "cell_type": "code",
   "execution_count": 8,
   "id": "5df026a4",
   "metadata": {
    "scrolled": true
   },
   "outputs": [
    {
     "name": "stdout",
     "output_type": "stream",
     "text": [
      "no     0.859294\n",
      "yes    0.140706\n",
      "Name: churn, dtype: float64\n"
     ]
    },
    {
     "data": {
      "image/png": "[encoded data removed]",
      "text/plain": [
       "<Figure size 432x288 with 1 Axes>"
      ]
     },
     "metadata": {
      "needs_background": "light"
     },
     "output_type": "display_data"
    }
   ],
   "source": [
    "print(train['churn'].value_counts(normalize=True))\n",
    "\n",
    "# Visualize the churn and non-churners distribution\n",
    "sns.countplot(x = train['churn'])\n",
    "plt.show()"
   ]
  },
  {
   "cell_type": "markdown",
   "id": "aa1a7111",
   "metadata": {},
   "source": [
    "In this dataset we have imbalanced class distribution with 86% of the data distribution data are classified as non-churners and we have only 14% data are churners. Since we have imbalanced data accuracy is not a good metrics for this case because we would have a high accuracy for non-churners"
   ]
  },
  {
   "cell_type": "markdown",
   "id": "67519d49",
   "metadata": {},
   "source": [
    "Comparing the different between churners and non-churnes by the average of numerical features"
   ]
  },
  {
   "cell_type": "code",
   "execution_count": 9,
   "id": "d4b504a0",
   "metadata": {},
   "outputs": [
    {
     "data": {
      "text/html": [
       "<div>\n",
       "<style scoped>\n",
       "    .dataframe tbody tr th:only-of-type {\n",
       "        vertical-align: middle;\n",
       "    }\n",
       "\n",
       "    .dataframe tbody tr th {\n",
       "        vertical-align: top;\n",
       "    }\n",
       "\n",
       "    .dataframe thead th {\n",
       "        text-align: right;\n",
       "    }\n",
       "</style>\n",
       "<table border=\"1\" class=\"dataframe\">\n",
       "  <thead>\n",
       "    <tr style=\"text-align: right;\">\n",
       "      <th></th>\n",
       "      <th>account_length</th>\n",
       "      <th>number_vmail_messages</th>\n",
       "      <th>total_day_minutes</th>\n",
       "      <th>total_day_calls</th>\n",
       "      <th>total_day_charge</th>\n",
       "      <th>total_eve_minutes</th>\n",
       "      <th>total_eve_calls</th>\n",
       "      <th>total_eve_charge</th>\n",
       "      <th>total_night_minutes</th>\n",
       "      <th>total_night_calls</th>\n",
       "      <th>total_night_charge</th>\n",
       "      <th>total_intl_minutes</th>\n",
       "      <th>total_intl_calls</th>\n",
       "      <th>total_intl_charge</th>\n",
       "      <th>number_customer_service_calls</th>\n",
       "    </tr>\n",
       "    <tr>\n",
       "      <th>churn</th>\n",
       "      <th></th>\n",
       "      <th></th>\n",
       "      <th></th>\n",
       "      <th></th>\n",
       "      <th></th>\n",
       "      <th></th>\n",
       "      <th></th>\n",
       "      <th></th>\n",
       "      <th></th>\n",
       "      <th></th>\n",
       "      <th></th>\n",
       "      <th></th>\n",
       "      <th></th>\n",
       "      <th></th>\n",
       "      <th></th>\n",
       "    </tr>\n",
       "  </thead>\n",
       "  <tbody>\n",
       "    <tr>\n",
       "      <th>no</th>\n",
       "      <td>99.924973</td>\n",
       "      <td>8.177437</td>\n",
       "      <td>175.555093</td>\n",
       "      <td>99.813801</td>\n",
       "      <td>29.844948</td>\n",
       "      <td>198.570674</td>\n",
       "      <td>100.231380</td>\n",
       "      <td>16.878743</td>\n",
       "      <td>199.577519</td>\n",
       "      <td>99.942771</td>\n",
       "      <td>8.981131</td>\n",
       "      <td>10.194441</td>\n",
       "      <td>4.460570</td>\n",
       "      <td>2.753018</td>\n",
       "      <td>1.441676</td>\n",
       "    </tr>\n",
       "    <tr>\n",
       "      <th>yes</th>\n",
       "      <td>102.137124</td>\n",
       "      <td>4.299331</td>\n",
       "      <td>208.990134</td>\n",
       "      <td>100.478261</td>\n",
       "      <td>35.528679</td>\n",
       "      <td>209.964883</td>\n",
       "      <td>99.841137</td>\n",
       "      <td>17.847207</td>\n",
       "      <td>206.331773</td>\n",
       "      <td>99.209030</td>\n",
       "      <td>9.285033</td>\n",
       "      <td>10.632441</td>\n",
       "      <td>4.217391</td>\n",
       "      <td>2.871254</td>\n",
       "      <td>2.275920</td>\n",
       "    </tr>\n",
       "  </tbody>\n",
       "</table>\n",
       "</div>"
      ],
      "text/plain": [
       "       account_length  number_vmail_messages  total_day_minutes  \\\n",
       "churn                                                             \n",
       "no          99.924973               8.177437         175.555093   \n",
       "yes        102.137124               4.299331         208.990134   \n",
       "\n",
       "       total_day_calls  total_day_charge  total_eve_minutes  total_eve_calls  \\\n",
       "churn                                                                          \n",
       "no           99.813801         29.844948         198.570674       100.231380   \n",
       "yes         100.478261         35.528679         209.964883        99.841137   \n",
       "\n",
       "       total_eve_charge  total_night_minutes  total_night_calls  \\\n",
       "churn                                                             \n",
       "no            16.878743           199.577519          99.942771   \n",
       "yes           17.847207           206.331773          99.209030   \n",
       "\n",
       "       total_night_charge  total_intl_minutes  total_intl_calls  \\\n",
       "churn                                                             \n",
       "no               8.981131           10.194441          4.460570   \n",
       "yes              9.285033           10.632441          4.217391   \n",
       "\n",
       "       total_intl_charge  number_customer_service_calls  \n",
       "churn                                                    \n",
       "no              2.753018                       1.441676  \n",
       "yes             2.871254                       2.275920  "
      ]
     },
     "execution_count": 9,
     "metadata": {},
     "output_type": "execute_result"
    }
   ],
   "source": [
    "train.groupby('churn').mean()"
   ]
  },
  {
   "cell_type": "markdown",
   "id": "c5ab7e3e",
   "metadata": {},
   "source": [
    "#### Observation:\n",
    "- Churners have a more account length than non-churners\n",
    "- Churners made more customer service calls than non-churners\n",
    "- Churners made more total_day_minutese calls than non-churners\n",
    "- Churners made more total_day_calls calls than non-churners\n",
    "- Churners made more total_day_charge than non-churners\n",
    "- Churners made more total_eve_minutes than non-churners\n",
    "- Churners made more total_night_minutes than non-churners\n",
    "- Churners made more total_night_charge than non-churners\n",
    "- Churners made more total_intl_minutes than non-churners\n",
    "- Churners made more total_eve_charge than non-churners\n",
    "- Churners made more total_intl_minutes than non-churners\n",
    "- Churners made more total_intl_charge than non-churners\n"
   ]
  },
  {
   "cell_type": "markdown",
   "id": "dad4603a",
   "metadata": {},
   "source": [
    "Let's see the difference for churners and non-churners for made a call for customer service and we will compare the customer service call by categorical feature; area code, vmail_plan, and international plan"
   ]
  },
  {
   "cell_type": "code",
   "execution_count": 10,
   "id": "93c390c3",
   "metadata": {
    "scrolled": true
   },
   "outputs": [
    {
     "data": {
      "image/png": "[encoded data removed]",
      "text/plain": [
       "<Figure size 576x360 with 1 Axes>"
      ]
     },
     "metadata": {
      "needs_background": "light"
     },
     "output_type": "display_data"
    }
   ],
   "source": [
    "# Visualize the difference between churn and non churners for customer service calls\n",
    "plt.figure(figsize=(8,5))\n",
    "sns.boxplot(x='churn', y='number_customer_service_calls', data =train)\n",
    "plt.title('Number of customer service calls by churn and non-churners')\n",
    "plt.show()"
   ]
  },
  {
   "cell_type": "code",
   "execution_count": 11,
   "id": "4ec4f46a",
   "metadata": {},
   "outputs": [
    {
     "data": {
      "image/png": "[encoded data removed]",
      "text/plain": [
       "<Figure size 576x360 with 1 Axes>"
      ]
     },
     "metadata": {
      "needs_background": "light"
     },
     "output_type": "display_data"
    }
   ],
   "source": [
    "# Visualize the difference between churn and non churners for customer service calls by area code\n",
    "plt.figure(figsize=(8,5))\n",
    "sns.boxplot(x='churn', y='number_customer_service_calls', data =train, hue='area_code')\n",
    "plt.title('Number of customer servica calls by Voice Mail Plan')\n",
    "plt.legend(bbox_to_anchor=(1,1.01))\n",
    "plt.show()"
   ]
  },
  {
   "cell_type": "code",
   "execution_count": 12,
   "id": "0c43777d",
   "metadata": {},
   "outputs": [
    {
     "data": {
      "image/png": "[encoded data removed]",
      "text/plain": [
       "<Figure size 576x360 with 1 Axes>"
      ]
     },
     "metadata": {
      "needs_background": "light"
     },
     "output_type": "display_data"
    }
   ],
   "source": [
    "# Visualize the difference between churn and non churners for customer service calls by voice mail plan\n",
    "plt.figure(figsize=(8,5))\n",
    "sns.boxplot(x='churn', y='number_customer_service_calls', data =train, hue='voice_mail_plan')\n",
    "plt.title('Number of customer servica calls by Voice Mail Plan')\n",
    "plt.legend(bbox_to_anchor=(1.14,1.01))\n",
    "plt.show()"
   ]
  },
  {
   "cell_type": "code",
   "execution_count": 13,
   "id": "5b415c3c",
   "metadata": {},
   "outputs": [
    {
     "data": {
      "image/png": "[encoded data removed]",
      "text/plain": [
       "<Figure size 576x360 with 1 Axes>"
      ]
     },
     "metadata": {
      "needs_background": "light"
     },
     "output_type": "display_data"
    }
   ],
   "source": [
    "# Visualize the difference between churn and non churners for customer service calls by international plan\n",
    "plt.figure(figsize=(8,5))\n",
    "sns.boxplot(x='churn', y='number_customer_service_calls', data =train, hue='international_plan')\n",
    "plt.title('International Plan')\n",
    "plt.legend(bbox_to_anchor=(1.14,1.01))\n",
    "plt.show()"
   ]
  },
  {
   "cell_type": "markdown",
   "id": "aebb6429",
   "metadata": {},
   "source": [
    "### Categorical variable: State"
   ]
  },
  {
   "cell_type": "code",
   "execution_count": 14,
   "id": "afe44dec",
   "metadata": {},
   "outputs": [
    {
     "data": {
      "text/plain": [
       "WV    139\n",
       "MN    108\n",
       "ID    106\n",
       "AL    101\n",
       "VA    100\n",
       "OR     99\n",
       "TX     98\n",
       "UT     97\n",
       "NY     96\n",
       "NJ     96\n",
       "WY     95\n",
       "OH     95\n",
       "WI     94\n",
       "MA     89\n",
       "ME     89\n",
       "CT     88\n",
       "RI     87\n",
       "MI     87\n",
       "KS     87\n",
       "MD     86\n",
       "VT     86\n",
       "KY     85\n",
       "NV     83\n",
       "IN     83\n",
       "MS     82\n",
       "WA     80\n",
       "NC     80\n",
       "MO     80\n",
       "DE     80\n",
       "CO     80\n",
       "MT     80\n",
       "IL     79\n",
       "TN     79\n",
       "NM     78\n",
       "OK     78\n",
       "NH     78\n",
       "HI     77\n",
       "AZ     77\n",
       "FL     76\n",
       "SD     75\n",
       "NE     73\n",
       "DC     72\n",
       "SC     72\n",
       "AR     71\n",
       "LA     69\n",
       "PA     67\n",
       "ND     67\n",
       "GA     64\n",
       "IA     62\n",
       "AK     61\n",
       "CA     39\n",
       "Name: state, dtype: int64"
      ]
     },
     "execution_count": 14,
     "metadata": {},
     "output_type": "execute_result"
    }
   ],
   "source": [
    "train['state'].value_counts()"
   ]
  },
  {
   "cell_type": "code",
   "execution_count": 15,
   "id": "8da3b6df",
   "metadata": {},
   "outputs": [
    {
     "data": {
      "image/png": "[encoded data removed]",
      "text/plain": [
       "<Figure size 576x360 with 1 Axes>"
      ]
     },
     "metadata": {
      "needs_background": "light"
     },
     "output_type": "display_data"
    }
   ],
   "source": [
    "total_ac_per_state = train.groupby('state')['account_length'].sum().reset_index(name='total_month')\n",
    "top_10_total_ac_per_state = total_ac_per_state.sort_values(by='total_month', ascending=False).head(10)\n",
    "\n",
    "# Visualize the top 10 states for churners\n",
    "plt.figure(figsize=(8,5))\n",
    "sns.barplot(x='total_month', y='state', data=top_10_total_ac_per_state)\n",
    "plt.title('Top 10 account length by state')\n",
    "plt.xlabel('Total number of month')\n",
    "plt.show()"
   ]
  },
  {
   "cell_type": "code",
   "execution_count": 16,
   "id": "72a5e66b",
   "metadata": {
    "scrolled": true
   },
   "outputs": [
    {
     "data": {
      "image/png": "[encoded data removed]",
      "text/plain": [
       "<Figure size 576x360 with 1 Axes>"
      ]
     },
     "metadata": {
      "needs_background": "light"
     },
     "output_type": "display_data"
    }
   ],
   "source": [
    "# Grouping data only for churners\n",
    "churners = train[train['churn'] == 'yes']\n",
    "churners_by_state = churners.groupby('state')['churn'].value_counts().reset_index(name='count')\n",
    "top_10_churners_by_state = churners_by_state.sort_values(by='count', ascending=False).head(10)\n",
    "\n",
    "# Visualize the top 10 states for churners\n",
    "plt.figure(figsize=(8,5))\n",
    "sns.barplot(x='count', y='state', data=top_10_churners_by_state)\n",
    "plt.title('Top 10 churners by state')\n",
    "plt.xlabel('Number of churners')\n",
    "plt.show()"
   ]
  },
  {
   "cell_type": "code",
   "execution_count": 17,
   "id": "342c9662",
   "metadata": {},
   "outputs": [
    {
     "data": {
      "image/png": "[encoded data removed]",
      "text/plain": [
       "<Figure size 576x360 with 1 Axes>"
      ]
     },
     "metadata": {
      "needs_background": "light"
     },
     "output_type": "display_data"
    }
   ],
   "source": [
    "avg_cust_call_by_state = train.groupby('state')['number_customer_service_calls'].mean().reset_index(name='average_cust_call')\n",
    "top_10_avg_cust_call_by_state = avg_cust_call_by_state .sort_values(by='average_cust_call', ascending=False).head(10)\n",
    "\n",
    "# Visualize the top 10 states for churners\n",
    "plt.figure(figsize=(8,5))\n",
    "sns.barplot(x='average_cust_call', y='state', data=top_10_avg_cust_call_by_state)\n",
    "plt.title('Top 10 Average Customer Call by State')\n",
    "plt.ylabel('State')\n",
    "plt.xlabel('Average of Customer Call')\n",
    "plt.show()"
   ]
  },
  {
   "cell_type": "markdown",
   "id": "43d78d53",
   "metadata": {},
   "source": [
    "### Categorical variable: area code"
   ]
  },
  {
   "cell_type": "code",
   "execution_count": 18,
   "id": "842d61e2",
   "metadata": {},
   "outputs": [
    {
     "data": {
      "text/plain": [
       "area_code_415    2108\n",
       "area_code_408    1086\n",
       "area_code_510    1056\n",
       "Name: area_code, dtype: int64"
      ]
     },
     "execution_count": 18,
     "metadata": {},
     "output_type": "execute_result"
    }
   ],
   "source": [
    "train['area_code'].value_counts()"
   ]
  },
  {
   "cell_type": "code",
   "execution_count": 19,
   "id": "0d686209",
   "metadata": {
    "scrolled": true
   },
   "outputs": [
    {
     "data": {
      "text/html": [
       "<div>\n",
       "<style scoped>\n",
       "    .dataframe tbody tr th:only-of-type {\n",
       "        vertical-align: middle;\n",
       "    }\n",
       "\n",
       "    .dataframe tbody tr th {\n",
       "        vertical-align: top;\n",
       "    }\n",
       "\n",
       "    .dataframe thead th {\n",
       "        text-align: right;\n",
       "    }\n",
       "</style>\n",
       "<table border=\"1\" class=\"dataframe\">\n",
       "  <thead>\n",
       "    <tr style=\"text-align: right;\">\n",
       "      <th></th>\n",
       "      <th>account_length</th>\n",
       "      <th>number_vmail_messages</th>\n",
       "      <th>total_day_minutes</th>\n",
       "      <th>total_day_calls</th>\n",
       "      <th>total_day_charge</th>\n",
       "      <th>total_eve_minutes</th>\n",
       "      <th>total_eve_calls</th>\n",
       "      <th>total_eve_charge</th>\n",
       "      <th>total_night_minutes</th>\n",
       "      <th>total_night_calls</th>\n",
       "      <th>total_night_charge</th>\n",
       "      <th>total_intl_minutes</th>\n",
       "      <th>total_intl_calls</th>\n",
       "      <th>total_intl_charge</th>\n",
       "      <th>number_customer_service_calls</th>\n",
       "    </tr>\n",
       "    <tr>\n",
       "      <th>area_code</th>\n",
       "      <th></th>\n",
       "      <th></th>\n",
       "      <th></th>\n",
       "      <th></th>\n",
       "      <th></th>\n",
       "      <th></th>\n",
       "      <th></th>\n",
       "      <th></th>\n",
       "      <th></th>\n",
       "      <th></th>\n",
       "      <th></th>\n",
       "      <th></th>\n",
       "      <th></th>\n",
       "      <th></th>\n",
       "      <th></th>\n",
       "    </tr>\n",
       "  </thead>\n",
       "  <tbody>\n",
       "    <tr>\n",
       "      <th>area_code_408</th>\n",
       "      <td>101.550645</td>\n",
       "      <td>7.551565</td>\n",
       "      <td>178.401381</td>\n",
       "      <td>99.162983</td>\n",
       "      <td>30.328766</td>\n",
       "      <td>201.233794</td>\n",
       "      <td>100.697974</td>\n",
       "      <td>17.105018</td>\n",
       "      <td>198.291621</td>\n",
       "      <td>99.145488</td>\n",
       "      <td>8.923232</td>\n",
       "      <td>10.109945</td>\n",
       "      <td>4.388582</td>\n",
       "      <td>2.730341</td>\n",
       "      <td>1.571823</td>\n",
       "    </tr>\n",
       "    <tr>\n",
       "      <th>area_code_415</th>\n",
       "      <td>100.218691</td>\n",
       "      <td>7.761860</td>\n",
       "      <td>181.683871</td>\n",
       "      <td>100.931689</td>\n",
       "      <td>30.886850</td>\n",
       "      <td>199.099383</td>\n",
       "      <td>100.038899</td>\n",
       "      <td>16.923672</td>\n",
       "      <td>201.460484</td>\n",
       "      <td>99.897059</td>\n",
       "      <td>9.065897</td>\n",
       "      <td>10.352751</td>\n",
       "      <td>4.490038</td>\n",
       "      <td>2.795745</td>\n",
       "      <td>1.525142</td>\n",
       "    </tr>\n",
       "    <tr>\n",
       "      <th>area_code_510</th>\n",
       "      <td>98.919508</td>\n",
       "      <td>7.454545</td>\n",
       "      <td>179.327462</td>\n",
       "      <td>98.627841</td>\n",
       "      <td>30.486155</td>\n",
       "      <td>201.228883</td>\n",
       "      <td>99.914773</td>\n",
       "      <td>17.104782</td>\n",
       "      <td>200.966004</td>\n",
       "      <td>100.438447</td>\n",
       "      <td>9.043561</td>\n",
       "      <td>10.213352</td>\n",
       "      <td>4.338068</td>\n",
       "      <td>2.758002</td>\n",
       "      <td>1.613636</td>\n",
       "    </tr>\n",
       "  </tbody>\n",
       "</table>\n",
       "</div>"
      ],
      "text/plain": [
       "               account_length  number_vmail_messages  total_day_minutes  \\\n",
       "area_code                                                                 \n",
       "area_code_408      101.550645               7.551565         178.401381   \n",
       "area_code_415      100.218691               7.761860         181.683871   \n",
       "area_code_510       98.919508               7.454545         179.327462   \n",
       "\n",
       "               total_day_calls  total_day_charge  total_eve_minutes  \\\n",
       "area_code                                                             \n",
       "area_code_408        99.162983         30.328766         201.233794   \n",
       "area_code_415       100.931689         30.886850         199.099383   \n",
       "area_code_510        98.627841         30.486155         201.228883   \n",
       "\n",
       "               total_eve_calls  total_eve_charge  total_night_minutes  \\\n",
       "area_code                                                               \n",
       "area_code_408       100.697974         17.105018           198.291621   \n",
       "area_code_415       100.038899         16.923672           201.460484   \n",
       "area_code_510        99.914773         17.104782           200.966004   \n",
       "\n",
       "               total_night_calls  total_night_charge  total_intl_minutes  \\\n",
       "area_code                                                                  \n",
       "area_code_408          99.145488            8.923232           10.109945   \n",
       "area_code_415          99.897059            9.065897           10.352751   \n",
       "area_code_510         100.438447            9.043561           10.213352   \n",
       "\n",
       "               total_intl_calls  total_intl_charge  \\\n",
       "area_code                                            \n",
       "area_code_408          4.388582           2.730341   \n",
       "area_code_415          4.490038           2.795745   \n",
       "area_code_510          4.338068           2.758002   \n",
       "\n",
       "               number_customer_service_calls  \n",
       "area_code                                     \n",
       "area_code_408                       1.571823  \n",
       "area_code_415                       1.525142  \n",
       "area_code_510                       1.613636  "
      ]
     },
     "execution_count": 19,
     "metadata": {},
     "output_type": "execute_result"
    }
   ],
   "source": [
    "train.groupby('area_code').mean()"
   ]
  },
  {
   "cell_type": "code",
   "execution_count": 20,
   "id": "4b60b968",
   "metadata": {},
   "outputs": [
    {
     "data": {
      "image/png": "[encoded data removed]",
      "text/plain": [
       "<Figure size 576x360 with 1 Axes>"
      ]
     },
     "metadata": {
      "needs_background": "light"
     },
     "output_type": "display_data"
    }
   ],
   "source": [
    "churners = train[train['churn'] == 'yes']\n",
    "churners_by_area_code = churners.groupby('area_code')['churn'].value_counts().reset_index(name='number_of_churn')\n",
    "churners_by_area_code = churners_by_area_code.sort_values(by='number_of_churn')\n",
    "\n",
    "# Visualize the top 10 states for churners\n",
    "plt.figure(figsize=(8,5))\n",
    "sns.barplot(x='area_code', y='number_of_churn', data=churners_by_area_code)\n",
    "plt.title('Number of churners by area code')\n",
    "plt.ylabel('Total Churners')\n",
    "plt.xlabel('Area Code')\n",
    "plt.show()"
   ]
  },
  {
   "cell_type": "markdown",
   "id": "e37fe280",
   "metadata": {},
   "source": [
    "We can see that area code of number 415 has the highest churn customers"
   ]
  },
  {
   "cell_type": "markdown",
   "id": "0e2bccd2",
   "metadata": {},
   "source": [
    "### Categorical variable: International Plan"
   ]
  },
  {
   "cell_type": "code",
   "execution_count": 21,
   "id": "58e7d557",
   "metadata": {},
   "outputs": [
    {
     "data": {
      "text/plain": [
       "no     3854\n",
       "yes     396\n",
       "Name: international_plan, dtype: int64"
      ]
     },
     "execution_count": 21,
     "metadata": {},
     "output_type": "execute_result"
    }
   ],
   "source": [
    "# Number of customers that have a international plan\n",
    "train['international_plan'].value_counts()"
   ]
  },
  {
   "cell_type": "code",
   "execution_count": 22,
   "id": "ca8d72e5",
   "metadata": {},
   "outputs": [
    {
     "data": {
      "image/png": "[encoded data removed]",
      "text/plain": [
       "<Figure size 576x360 with 1 Axes>"
      ]
     },
     "metadata": {
      "needs_background": "light"
     },
     "output_type": "display_data"
    }
   ],
   "source": [
    "# Number of churners and non-churners that have a international plan\n",
    "plt.figure(figsize=(8,5))\n",
    "sns.countplot(x = 'churn', hue='international_plan', data=train)\n",
    "plt.title('Number of Churn and Non-Churners for international plan')\n",
    "plt.show()"
   ]
  },
  {
   "cell_type": "markdown",
   "id": "0796352b",
   "metadata": {},
   "source": [
    "Majority for our customers did not have a international plan, only a few people of our customers that has a international plan for both churn and non-churners"
   ]
  },
  {
   "cell_type": "markdown",
   "id": "c8a5a889",
   "metadata": {},
   "source": [
    "### 3.2.2 Numerical features"
   ]
  },
  {
   "cell_type": "markdown",
   "id": "cdf8c97b",
   "metadata": {},
   "source": [
    "Let's take a look at the distribution for the number of months the customer has been with the service from the company"
   ]
  },
  {
   "cell_type": "code",
   "execution_count": 23,
   "id": "33ad2c67",
   "metadata": {},
   "outputs": [
    {
     "name": "stdout",
     "output_type": "stream",
     "text": [
      "The average of account length:  100.24\n"
     ]
    },
    {
     "data": {
      "image/png": "[encoded data removed]",
      "text/plain": [
       "<Figure size 576x360 with 1 Axes>"
      ]
     },
     "metadata": {
      "needs_background": "light"
     },
     "output_type": "display_data"
    }
   ],
   "source": [
    "print('The average of account length: ', np.round(train['account_length'].mean(axis=0), 2))\n",
    "\n",
    "# Visualize the account_length distribution\n",
    "plt.figure(figsize=(8,5))\n",
    "sns.histplot(data= train['account_length'], kde=True)\n",
    "plt.title('Distribution of Account Length')\n",
    "plt.xlabel('Number of Month')\n",
    "plt.show()"
   ]
  },
  {
   "cell_type": "markdown",
   "id": "924a5ed9",
   "metadata": {},
   "source": [
    "The distribution of account length is approximately normally distributed with average 100.24"
   ]
  },
  {
   "cell_type": "markdown",
   "id": "d04b3afa",
   "metadata": {},
   "source": [
    "Let's take a look for the distribution of total calls, total charge and total minutes and we will explore and visualising that features for a day, evening, night, and international"
   ]
  },
  {
   "cell_type": "code",
   "execution_count": 24,
   "id": "6b60e08d",
   "metadata": {},
   "outputs": [],
   "source": [
    "# Build a function for visualize distribution\n",
    "def plotting_features_distribution(features):\n",
    "    plt.figure(figsize=(15,12))\n",
    "    plt.subplots_adjust(hspace=0.5)   \n",
    "\n",
    "    for n, feature in enumerate(features):\n",
    "        # add a new subplot iteratively\n",
    "        ax = plt.subplot(2, 2, n + 1)\n",
    "\n",
    "        # filter df and plot ticker on the new subplot axis\n",
    "        sns.histplot(train[feature], kde=True)\n",
    "\n",
    "        # chart formatting\n",
    "        ax.set_title(feature.title())\n",
    "        ax.set_xlabel(\"\")"
   ]
  },
  {
   "cell_type": "code",
   "execution_count": 25,
   "id": "11872f60",
   "metadata": {},
   "outputs": [],
   "source": [
    "# Create a different variable for day, evening, night, and international\n",
    "day_features = ['total_day_minutes','total_day_calls','total_day_charge']\n",
    "evening_features = ['total_eve_minutes','total_eve_calls','total_eve_charge']\n",
    "night_features = ['total_night_minutes','total_night_calls','total_night_charge']\n",
    "international_features = ['total_intl_minutes','total_intl_calls','total_intl_charge']"
   ]
  },
  {
   "cell_type": "markdown",
   "id": "32733d67",
   "metadata": {},
   "source": [
    "Features: Day"
   ]
  },
  {
   "cell_type": "code",
   "execution_count": 26,
   "id": "737c73d3",
   "metadata": {
    "scrolled": false
   },
   "outputs": [
    {
     "data": {
      "image/png": "[encoded data removed]",
      "text/plain": [
       "<Figure size 1080x864 with 3 Axes>"
      ]
     },
     "metadata": {
      "needs_background": "light"
     },
     "output_type": "display_data"
    }
   ],
   "source": [
    "# Visualize the day features distribution\n",
    "plotting_features_distribution(day_features) "
   ]
  },
  {
   "cell_type": "markdown",
   "id": "427aab2b",
   "metadata": {},
   "source": [
    "Fatures: Evening"
   ]
  },
  {
   "cell_type": "code",
   "execution_count": 27,
   "id": "967a9e21",
   "metadata": {},
   "outputs": [
    {
     "data": {
      "image/png": "[encoded data removed]",
      "text/plain": [
       "<Figure size 1080x864 with 3 Axes>"
      ]
     },
     "metadata": {
      "needs_background": "light"
     },
     "output_type": "display_data"
    }
   ],
   "source": [
    "# Visualize the evening features distribution\n",
    "plotting_features_distribution(evening_features)"
   ]
  },
  {
   "cell_type": "markdown",
   "id": "21b06918",
   "metadata": {},
   "source": [
    "Features: Night"
   ]
  },
  {
   "cell_type": "code",
   "execution_count": 28,
   "id": "b78c5d7f",
   "metadata": {},
   "outputs": [
    {
     "data": {
      "image/png": "[encoded data removed]",
      "text/plain": [
       "<Figure size 1080x864 with 3 Axes>"
      ]
     },
     "metadata": {
      "needs_background": "light"
     },
     "output_type": "display_data"
    }
   ],
   "source": [
    "# Visualize the night features distribution\n",
    "plotting_features_distribution(night_features)"
   ]
  },
  {
   "cell_type": "markdown",
   "id": "014ce963",
   "metadata": {},
   "source": [
    "Features: International"
   ]
  },
  {
   "cell_type": "code",
   "execution_count": 29,
   "id": "a14c0542",
   "metadata": {},
   "outputs": [
    {
     "data": {
      "image/png": "[encoded data removed]",
      "text/plain": [
       "<Figure size 1080x864 with 3 Axes>"
      ]
     },
     "metadata": {
      "needs_background": "light"
     },
     "output_type": "display_data"
    }
   ],
   "source": [
    "# Visualize the international features distribution\n",
    "plotting_features_distribution(international_features)"
   ]
  },
  {
   "cell_type": "markdown",
   "id": "c4c925fc",
   "metadata": {},
   "source": [
    "### 4. Data Preprocessing\n",
    "\n",
    "Data preprocessing is the process of getting our dataset ready for model training. In this section, we will perform the following preprocessing steps:\n",
    "- Feature Encoding \n",
    "- Split the data\n",
    "\n",
    "Since all our algorithms are a tree based model, we don't really need to scaling our data for the optimization purpose.\n",
    "\n",
    "Machine learning models require all input and output variables to be numeric. Therefore, we need to encode all of our categorical data before we can fit the models to our data."
   ]
  },
  {
   "cell_type": "code",
   "execution_count": 30,
   "id": "01b8e5ec",
   "metadata": {},
   "outputs": [],
   "source": [
    "# Convert Churn into numerical values where 0 = no and 1 = yes\n",
    "train['churn'] = train['churn'].replace(['yes','no'], [1,0])"
   ]
  },
  {
   "cell_type": "code",
   "execution_count": 31,
   "id": "bada5a8d",
   "metadata": {},
   "outputs": [],
   "source": [
    "X = pd.get_dummies(data=train, columns= ['state','area_code','international_plan','voice_mail_plan']).drop('churn', axis=1)\n",
    "y = train['churn']"
   ]
  },
  {
   "cell_type": "code",
   "execution_count": 32,
   "id": "2cd13c04",
   "metadata": {},
   "outputs": [],
   "source": [
    "# split the data \n",
    "X_train, X_test, y_train, y_test = train_test_split(X, y, test_size=0.3, random_state = 42, stratify = y)"
   ]
  },
  {
   "cell_type": "code",
   "execution_count": 33,
   "id": "d1670145",
   "metadata": {},
   "outputs": [
    {
     "name": "stdout",
     "output_type": "stream",
     "text": [
      "(2975, 73)\n",
      "(2975,)\n",
      "(1275, 73)\n",
      "(1275,)\n"
     ]
    }
   ],
   "source": [
    "# Checking our shape of our training and test data \n",
    "print(X_train.shape)\n",
    "print(y_train.shape)\n",
    "\n",
    "print(X_test.shape)\n",
    "print(y_test.shape)"
   ]
  },
  {
   "cell_type": "markdown",
   "id": "f66acdac",
   "metadata": {},
   "source": [
    "### 5. Data Modeling\n",
    "\n",
    "In this project we are going to use four machine learning algorithms:\n",
    "- Random Forest Classifier\n",
    "- Gradient Boosting Classifier\n",
    "- XGboost Classifier\n"
   ]
  },
  {
   "cell_type": "markdown",
   "id": "c81702d4",
   "metadata": {},
   "source": [
    "### 5.1 Random Forest Classifier"
   ]
  },
  {
   "cell_type": "code",
   "execution_count": 34,
   "id": "60712a85",
   "metadata": {},
   "outputs": [
    {
     "data": {
      "image/png": "[encoded data removed]",
      "text/plain": [
       "<Figure size 720x504 with 1 Axes>"
      ]
     },
     "metadata": {
      "needs_background": "light"
     },
     "output_type": "display_data"
    }
   ],
   "source": [
    "#feature importance scoring by using Random Forest algorithm\n",
    "forest = RandomForestClassifier(random_state=42, n_jobs=-1)\n",
    "forest.fit(X_train, y_train)\n",
    "indices = np.argsort(forest.feature_importances_)[::-1]\n",
    "features_df = pd.DataFrame({'feature score':pd.Series(forest.feature_importances_),'features':pd.Series(X_train.columns)})   \n",
    "\n",
    "#plot top 15 important features\n",
    "plt.figure(figsize=(10,7))\n",
    "sns.barplot(x='feature score',y='features',data=features_df.sort_values(by='feature score',ascending=False).head(30))\n",
    "plt.title('Feature importance score by Random Forest')\n",
    "plt.show()"
   ]
  },
  {
   "cell_type": "code",
   "execution_count": 35,
   "id": "6b5b0723",
   "metadata": {},
   "outputs": [
    {
     "data": {
      "text/plain": [
       "RandomForestClassifier(random_state=42)"
      ]
     },
     "execution_count": 35,
     "metadata": {},
     "output_type": "execute_result"
    }
   ],
   "source": [
    "rf = RandomForestClassifier(random_state=42)\n",
    "rf.fit(X_train, y_train)"
   ]
  },
  {
   "cell_type": "code",
   "execution_count": 36,
   "id": "7459aba1",
   "metadata": {
    "scrolled": false
   },
   "outputs": [
    {
     "data": {
      "text/plain": [
       "<sklearn.metrics._plot.confusion_matrix.ConfusionMatrixDisplay at 0x22595fd0c40>"
      ]
     },
     "execution_count": 36,
     "metadata": {},
     "output_type": "execute_result"
    },
    {
     "data": {
      "image/png": "[encoded data removed]",
      "text/plain": [
       "<Figure size 432x288 with 2 Axes>"
      ]
     },
     "metadata": {
      "needs_background": "light"
     },
     "output_type": "display_data"
    }
   ],
   "source": [
    "plot_confusion_matrix(rf, X_test, y_test, display_labels=['Not Churn','Churn'])"
   ]
  },
  {
   "cell_type": "markdown",
   "id": "9e68ec50",
   "metadata": {},
   "source": [
    "In the confusion matrix, we see that of the **1096** people that **not churn**, **1096** **(100%)** were correctly classified. And of the **179** people that **churn**, **116** **(64%)** were correctly classified"
   ]
  },
  {
   "cell_type": "markdown",
   "id": "60fdb2ca",
   "metadata": {},
   "source": [
    "### 5.1.1 Hyperparameters tuning with GridSearchCV (Random Forest)"
   ]
  },
  {
   "cell_type": "code",
   "execution_count": 37,
   "id": "16fee436",
   "metadata": {},
   "outputs": [],
   "source": [
    "param_grid = {\n",
    "              'n_estimators': [100, 350, 500],\n",
    "              'min_samples_leaf': [2, 10, 30],\n",
    "              'max_depth':[5, 10, 20]\n",
    "             }"
   ]
  },
  {
   "cell_type": "code",
   "execution_count": 38,
   "id": "809f4a3c",
   "metadata": {},
   "outputs": [
    {
     "data": {
      "text/plain": [
       "GridSearchCV(cv=5, estimator=RandomForestClassifier(random_state=42), n_jobs=-1,\n",
       "             param_grid={'max_depth': [5, 10, 20],\n",
       "                         'min_samples_leaf': [2, 10, 30],\n",
       "                         'n_estimators': [100, 350, 500]},\n",
       "             scoring='roc_auc')"
      ]
     },
     "execution_count": 38,
     "metadata": {},
     "output_type": "execute_result"
    }
   ],
   "source": [
    "rf_grid = GridSearchCV(rf, param_grid=param_grid, cv=5, n_jobs=-1, scoring='roc_auc')\n",
    "rf_grid.fit(X_train, y_train)"
   ]
  },
  {
   "cell_type": "code",
   "execution_count": 39,
   "id": "ae062d53",
   "metadata": {},
   "outputs": [
    {
     "name": "stdout",
     "output_type": "stream",
     "text": [
      "{'max_depth': 20, 'min_samples_leaf': 2, 'n_estimators': 500}\n",
      "0.918408182895827\n"
     ]
    }
   ],
   "source": [
    "print(rf_grid.best_params_)\n",
    "print(rf_grid.best_score_)"
   ]
  },
  {
   "cell_type": "code",
   "execution_count": 40,
   "id": "8afff642",
   "metadata": {},
   "outputs": [],
   "source": [
    "# Recall score\n",
    "rf_recall = recall_score(y_test, rf_grid.predict(X_test))\n",
    "\n",
    "# Accuracy score\n",
    "rf_accuracy = accuracy_score(y_test,rf_grid.predict(X_test))\n",
    "\n",
    "rf_auc = roc_auc_score(y_test, rf_grid.predict_proba(X_test)[:,1])"
   ]
  },
  {
   "cell_type": "code",
   "execution_count": 41,
   "id": "c9d19567",
   "metadata": {},
   "outputs": [
    {
     "data": {
      "text/plain": [
       "<sklearn.metrics._plot.confusion_matrix.ConfusionMatrixDisplay at 0x22594230d00>"
      ]
     },
     "execution_count": 41,
     "metadata": {},
     "output_type": "execute_result"
    },
    {
     "data": {
      "image/png": "[encoded data removed]",
      "text/plain": [
       "<Figure size 432x288 with 2 Axes>"
      ]
     },
     "metadata": {
      "needs_background": "light"
     },
     "output_type": "display_data"
    }
   ],
   "source": [
    "plot_confusion_matrix(rf_grid, X_test, y_test, display_labels=['Not Churn','Churn']) "
   ]
  },
  {
   "cell_type": "markdown",
   "id": "297306e7",
   "metadata": {},
   "source": [
    "Random Forest with model tuning, of the **179** people that churn, **117** **(65%)** were correctly classified"
   ]
  },
  {
   "cell_type": "markdown",
   "id": "94cd675c",
   "metadata": {},
   "source": [
    "### 5.2 Gradient Boosting Classifier"
   ]
  },
  {
   "cell_type": "code",
   "execution_count": 42,
   "id": "a2b42a11",
   "metadata": {},
   "outputs": [
    {
     "data": {
      "text/plain": [
       "GradientBoostingClassifier(random_state=42)"
      ]
     },
     "execution_count": 42,
     "metadata": {},
     "output_type": "execute_result"
    }
   ],
   "source": [
    "gb = GradientBoostingClassifier(random_state=42)\n",
    "gb.fit(X_train, y_train)"
   ]
  },
  {
   "cell_type": "code",
   "execution_count": 43,
   "id": "5f71c43b",
   "metadata": {},
   "outputs": [
    {
     "data": {
      "text/plain": [
       "<sklearn.metrics._plot.confusion_matrix.ConfusionMatrixDisplay at 0x225954c9790>"
      ]
     },
     "execution_count": 43,
     "metadata": {},
     "output_type": "execute_result"
    },
    {
     "data": {
      "image/png": "[encoded data removed]",
      "text/plain": [
       "<Figure size 432x288 with 2 Axes>"
      ]
     },
     "metadata": {
      "needs_background": "light"
     },
     "output_type": "display_data"
    }
   ],
   "source": [
    "plot_confusion_matrix(gb, X_test, y_test, display_labels=['Not Churn','Churn'])"
   ]
  },
  {
   "cell_type": "markdown",
   "id": "ec614cae",
   "metadata": {},
   "source": [
    "### 5.2.1 Hyperparameters tuning with GridSearchCV (Gradient Boosting Classifier)"
   ]
  },
  {
   "cell_type": "code",
   "execution_count": 44,
   "id": "b2ff9b80",
   "metadata": {},
   "outputs": [],
   "source": [
    "param_grid = {'learning_rate':[0.1],\n",
    "              'max_depth':[3, 4],\n",
    "              'n_estimators':[200, 300]\n",
    "             }"
   ]
  },
  {
   "cell_type": "code",
   "execution_count": 45,
   "id": "fad2b619",
   "metadata": {},
   "outputs": [
    {
     "data": {
      "text/plain": [
       "GridSearchCV(cv=5, estimator=GradientBoostingClassifier(random_state=42),\n",
       "             n_jobs=-1,\n",
       "             param_grid={'learning_rate': [0.1], 'max_depth': [3, 4],\n",
       "                         'n_estimators': [200, 300]},\n",
       "             scoring='roc_auc')"
      ]
     },
     "execution_count": 45,
     "metadata": {},
     "output_type": "execute_result"
    }
   ],
   "source": [
    "gb_grid = GridSearchCV(gb, \n",
    "                       param_grid=param_grid,\n",
    "                       cv=5,\n",
    "                       n_jobs=-1, \n",
    "                       scoring='roc_auc')\n",
    "gb_grid.fit(X_train, y_train)"
   ]
  },
  {
   "cell_type": "code",
   "execution_count": 46,
   "id": "2f30bab6",
   "metadata": {},
   "outputs": [
    {
     "name": "stdout",
     "output_type": "stream",
     "text": [
      "{'learning_rate': 0.1, 'max_depth': 3, 'n_estimators': 300}\n",
      "0.9114303164222447\n"
     ]
    }
   ],
   "source": [
    "print(gb_grid.best_params_)\n",
    "print(gb_grid.best_score_)"
   ]
  },
  {
   "cell_type": "code",
   "execution_count": 47,
   "id": "47175e97",
   "metadata": {},
   "outputs": [],
   "source": [
    "# Recall score\n",
    "gbc_recall = recall_score(y_test, gb_grid.predict(X_test))\n",
    "\n",
    "# Accuracy score\n",
    "gbc_acc = accuracy_score(y_test, gb_grid.predict(X_test))\n",
    "\n",
    "# Auc score\n",
    "gbc_auc = roc_auc_score(y_test, gb_grid.predict_proba(X_test)[:,1])"
   ]
  },
  {
   "cell_type": "code",
   "execution_count": 48,
   "id": "481e1d82",
   "metadata": {},
   "outputs": [
    {
     "data": {
      "text/plain": [
       "<sklearn.metrics._plot.confusion_matrix.ConfusionMatrixDisplay at 0x22595562ca0>"
      ]
     },
     "execution_count": 48,
     "metadata": {},
     "output_type": "execute_result"
    },
    {
     "data": {
      "image/png": "[encoded data removed]",
      "text/plain": [
       "<Figure size 432x288 with 2 Axes>"
      ]
     },
     "metadata": {
      "needs_background": "light"
     },
     "output_type": "display_data"
    }
   ],
   "source": [
    "plot_confusion_matrix(gb_grid, X_test, y_test, display_labels=['Not Churn','Churn'])"
   ]
  },
  {
   "cell_type": "markdown",
   "id": "725c8dd6",
   "metadata": {},
   "source": [
    "Our Gradient Boosting model made an improvement with model tuning, of the **179** people that churn, **132** **(73%)** were correctly classified"
   ]
  },
  {
   "cell_type": "markdown",
   "id": "0c4c738f",
   "metadata": {},
   "source": [
    "### 6.4 XGBoost"
   ]
  },
  {
   "cell_type": "code",
   "execution_count": 49,
   "id": "10ce324f",
   "metadata": {},
   "outputs": [
    {
     "name": "stdout",
     "output_type": "stream",
     "text": [
      "[17:04:55] WARNING: ..\\src\\learner.cc:1115: Starting in XGBoost 1.3.0, the default evaluation metric used with the objective 'binary:logistic' was changed from 'error' to 'logloss'. Explicitly set eval_metric if you'd like to restore the old behavior.\n"
     ]
    },
    {
     "data": {
      "text/plain": [
       "XGBClassifier(base_score=0.5, booster='gbtree', colsample_bylevel=1,\n",
       "              colsample_bynode=1, colsample_bytree=1, enable_categorical=False,\n",
       "              gamma=0, gpu_id=-1, importance_type=None,\n",
       "              interaction_constraints='', learning_rate=0.300000012,\n",
       "              max_delta_step=0, max_depth=6, min_child_weight=1, missing=nan,\n",
       "              monotone_constraints='()', n_estimators=100, n_jobs=4,\n",
       "              num_parallel_tree=1, predictor='auto', random_state=42,\n",
       "              reg_alpha=0, reg_lambda=1, scale_pos_weight=1, subsample=1,\n",
       "              tree_method='exact', validate_parameters=1, verbosity=None)"
      ]
     },
     "execution_count": 49,
     "metadata": {},
     "output_type": "execute_result"
    }
   ],
   "source": [
    "clf_xgb = XGBClassifier(random_state=42)\n",
    "clf_xgb.fit(X_train, y_train)"
   ]
  },
  {
   "cell_type": "code",
   "execution_count": 50,
   "id": "8b1cf958",
   "metadata": {},
   "outputs": [
    {
     "data": {
      "text/plain": [
       "<sklearn.metrics._plot.confusion_matrix.ConfusionMatrixDisplay at 0x22595562a90>"
      ]
     },
     "execution_count": 50,
     "metadata": {},
     "output_type": "execute_result"
    },
    {
     "data": {
      "image/png": "[encoded data removed]",
      "text/plain": [
       "<Figure size 432x288 with 2 Axes>"
      ]
     },
     "metadata": {
      "needs_background": "light"
     },
     "output_type": "display_data"
    }
   ],
   "source": [
    "plot_confusion_matrix(clf_xgb, X_test, y_test, display_labels=['Not Churn','Churn'])"
   ]
  },
  {
   "cell_type": "markdown",
   "id": "d91abd07",
   "metadata": {},
   "source": [
    "In the confusion matrix, we see that of the **1096** people that **not churn**, **1089** **(99%)** were correctly classified. And of the **179** people that **churn**, **135** **(75%)** were correctly classified"
   ]
  },
  {
   "cell_type": "markdown",
   "id": "cbc42ac7",
   "metadata": {},
   "source": [
    "### 6.4.1 Hyperparameters tuning with GridSearchCV (XGBoost)"
   ]
  },
  {
   "cell_type": "code",
   "execution_count": 51,
   "id": "08e9b0c9",
   "metadata": {},
   "outputs": [],
   "source": [
    "# Grid Search To Get Best Hyperparameters\n",
    "param_grid = {'learning_rate': [0.3],\n",
    "              'max_depth': [6,7],\n",
    "              'gamma':[1],\n",
    "              'reg_lambda':[1, 3],\n",
    "              'n_estimators':[400,600]\n",
    "             }"
   ]
  },
  {
   "cell_type": "code",
   "execution_count": 52,
   "id": "ddd63dfa",
   "metadata": {},
   "outputs": [
    {
     "name": "stdout",
     "output_type": "stream",
     "text": [
      "[17:07:02] WARNING: ..\\src\\learner.cc:1115: Starting in XGBoost 1.3.0, the default evaluation metric used with the objective 'binary:logistic' was changed from 'error' to 'logloss'. Explicitly set eval_metric if you'd like to restore the old behavior.\n"
     ]
    },
    {
     "data": {
      "text/plain": [
       "GridSearchCV(cv=4,\n",
       "             estimator=XGBClassifier(base_score=0.5, booster='gbtree',\n",
       "                                     colsample_bylevel=1, colsample_bynode=1,\n",
       "                                     colsample_bytree=1,\n",
       "                                     enable_categorical=False, gamma=0,\n",
       "                                     gpu_id=-1, importance_type=None,\n",
       "                                     interaction_constraints='',\n",
       "                                     learning_rate=0.300000012,\n",
       "                                     max_delta_step=0, max_depth=6,\n",
       "                                     min_child_weight=1, missing=nan,\n",
       "                                     monotone_constraints='()',\n",
       "                                     n_estimators=100, n_jobs=4,\n",
       "                                     num_parallel_tree=1, predictor='auto',\n",
       "                                     random_state=42, reg_alpha=0, reg_lambda=1,\n",
       "                                     scale_pos_weight=1, subsample=1,\n",
       "                                     tree_method='exact', validate_parameters=1,\n",
       "                                     verbosity=None),\n",
       "             n_jobs=-1,\n",
       "             param_grid={'gamma': [1], 'learning_rate': [0.3],\n",
       "                         'max_depth': [6, 7], 'n_estimators': [400, 600],\n",
       "                         'reg_lambda': [1, 3]},\n",
       "             scoring='roc_auc')"
      ]
     },
     "execution_count": 52,
     "metadata": {},
     "output_type": "execute_result"
    }
   ],
   "source": [
    "xgb_grid = GridSearchCV(clf_xgb, param_grid=param_grid, cv=4, n_jobs=-1, scoring='roc_auc')\n",
    "xgb_grid.fit(X_train, y_train)"
   ]
  },
  {
   "cell_type": "code",
   "execution_count": 53,
   "id": "379f4f8b",
   "metadata": {},
   "outputs": [
    {
     "data": {
      "text/plain": [
       "{'gamma': 1,\n",
       " 'learning_rate': 0.3,\n",
       " 'max_depth': 7,\n",
       " 'n_estimators': 400,\n",
       " 'reg_lambda': 3}"
      ]
     },
     "execution_count": 53,
     "metadata": {},
     "output_type": "execute_result"
    }
   ],
   "source": [
    "xgb_grid.best_params_"
   ]
  },
  {
   "cell_type": "code",
   "execution_count": 54,
   "id": "f8065a6d",
   "metadata": {},
   "outputs": [],
   "source": [
    "# Recall score\n",
    "xgb_recall = recall_score(y_test, xgb_grid.predict(X_test))\n",
    "\n",
    "# Accuracy score\n",
    "xgb_acc = accuracy_score(y_test, xgb_grid.predict(X_test))\n",
    "\n",
    "# Auc score\n",
    "xgb_auc = roc_auc_score(y_test, xgb_grid.predict_proba(X_test)[:,1])"
   ]
  },
  {
   "cell_type": "code",
   "execution_count": 55,
   "id": "762d7333",
   "metadata": {},
   "outputs": [
    {
     "data": {
      "text/plain": [
       "<sklearn.metrics._plot.confusion_matrix.ConfusionMatrixDisplay at 0x22594376250>"
      ]
     },
     "execution_count": 55,
     "metadata": {},
     "output_type": "execute_result"
    },
    {
     "data": {
      "image/png": "[encoded data removed]",
      "text/plain": [
       "<Figure size 432x288 with 2 Axes>"
      ]
     },
     "metadata": {
      "needs_background": "light"
     },
     "output_type": "display_data"
    }
   ],
   "source": [
    "plot_confusion_matrix(xgb_grid, X_test, y_test, display_labels=['Not Churn','Churn']) "
   ]
  },
  {
   "cell_type": "markdown",
   "id": "f8ecbf49",
   "metadata": {},
   "source": [
    "We did an improvement for XGBoost with model tuning, of the **179** people that churn, **138** **(77%)** were correctly classified"
   ]
  },
  {
   "cell_type": "markdown",
   "id": "4bc3ffbf",
   "metadata": {},
   "source": [
    "### 6. Finding the best model"
   ]
  },
  {
   "cell_type": "markdown",
   "id": "28bc40a1",
   "metadata": {},
   "source": [
    "### 7.1 ROC curve"
   ]
  },
  {
   "cell_type": "code",
   "execution_count": 56,
   "id": "8c35665c",
   "metadata": {},
   "outputs": [
    {
     "data": {
      "image/png": "[encoded data removed]",
      "text/plain": [
       "<Figure size 432x288 with 1 Axes>"
      ]
     },
     "metadata": {
      "needs_background": "light"
     },
     "output_type": "display_data"
    }
   ],
   "source": [
    "# Logistic regression \n",
    "fig = plot_roc_curve(gb_grid, X_test, y_test, name='Logistic Regression')\n",
    "# Random Forest\n",
    "plot_roc_curve(rf_grid, X_test, y_test ,ax=fig.ax_, name='Random Forest')\n",
    "# XGboost\n",
    "plot_roc_curve(xgb_grid, X_test, y_test ,ax=fig.ax_, name='XGboost')\n",
    "\n",
    "plt.title('Gradient Boosting vs Random Forest vs XGboost')\n",
    "plt.legend(loc='best')\n",
    "plt.show()"
   ]
  },
  {
   "cell_type": "markdown",
   "id": "a46f5c23",
   "metadata": {},
   "source": [
    "### 7.2 Recall, Accuracy, Precision, Auc"
   ]
  },
  {
   "cell_type": "code",
   "execution_count": 57,
   "id": "9fe335b7",
   "metadata": {},
   "outputs": [
    {
     "data": {
      "text/html": [
       "<div>\n",
       "<style scoped>\n",
       "    .dataframe tbody tr th:only-of-type {\n",
       "        vertical-align: middle;\n",
       "    }\n",
       "\n",
       "    .dataframe tbody tr th {\n",
       "        vertical-align: top;\n",
       "    }\n",
       "\n",
       "    .dataframe thead th {\n",
       "        text-align: right;\n",
       "    }\n",
       "</style>\n",
       "<table border=\"1\" class=\"dataframe\">\n",
       "  <thead>\n",
       "    <tr style=\"text-align: right;\">\n",
       "      <th></th>\n",
       "      <th>Model</th>\n",
       "      <th>Accuracy score</th>\n",
       "      <th>Recall score</th>\n",
       "      <th>Auc score</th>\n",
       "    </tr>\n",
       "  </thead>\n",
       "  <tbody>\n",
       "    <tr>\n",
       "      <th>2</th>\n",
       "      <td>XGboost</td>\n",
       "      <td>0.963922</td>\n",
       "      <td>0.770950</td>\n",
       "      <td>0.925723</td>\n",
       "    </tr>\n",
       "    <tr>\n",
       "      <th>1</th>\n",
       "      <td>Gradient Boosting Classifier</td>\n",
       "      <td>0.949804</td>\n",
       "      <td>0.737430</td>\n",
       "      <td>0.916971</td>\n",
       "    </tr>\n",
       "    <tr>\n",
       "      <th>0</th>\n",
       "      <td>Random Forest Classifier</td>\n",
       "      <td>0.950588</td>\n",
       "      <td>0.653631</td>\n",
       "      <td>0.915120</td>\n",
       "    </tr>\n",
       "  </tbody>\n",
       "</table>\n",
       "</div>"
      ],
      "text/plain": [
       "                          Model  Accuracy score  Recall score  Auc score\n",
       "2                       XGboost        0.963922      0.770950   0.925723\n",
       "1  Gradient Boosting Classifier        0.949804      0.737430   0.916971\n",
       "0      Random Forest Classifier        0.950588      0.653631   0.915120"
      ]
     },
     "execution_count": 57,
     "metadata": {},
     "output_type": "execute_result"
    }
   ],
   "source": [
    "result = pd.DataFrame({'Model':['Random Forest Classifier','Gradient Boosting Classifier','XGboost'],\n",
    "'Accuracy score':[rf_accuracy, gbc_acc ,xgb_acc],\n",
    "'Recall score': [rf_recall, gbc_recall ,xgb_recall],\n",
    "'Auc score':[rf_auc, gbc_auc, xgb_auc]})\n",
    "\n",
    "result.sort_values(by=['Auc score','Recall score'], ascending=False)\n",
    "                      "
   ]
  },
  {
   "cell_type": "markdown",
   "id": "7c55ba70",
   "metadata": {},
   "source": [
    "### 8. Feature Engineering "
   ]
  },
  {
   "cell_type": "markdown",
   "id": "7dc04120",
   "metadata": {},
   "source": [
    "Feature engineering is arguably the most important art in machine learning. It is the process of creating new features from existing features to better represent the underlying problem to the predictive models resulting in improved model accuracy on unseen data\n",
    "\n",
    "We will add 3 new features:\n",
    "- total calls\n",
    "- total charges\n",
    "- total minutes\n",
    "\n",
    "After adding new features let's see if we can improve the model!"
   ]
  },
  {
   "cell_type": "markdown",
   "id": "18eb2520",
   "metadata": {},
   "source": [
    "### 8.1 Creating new features"
   ]
  },
  {
   "cell_type": "markdown",
   "id": "df1279cd",
   "metadata": {},
   "source": [
    "Training data"
   ]
  },
  {
   "cell_type": "code",
   "execution_count": 58,
   "id": "7f2ef72f",
   "metadata": {},
   "outputs": [],
   "source": [
    "# Creating feature for total calls\n",
    "train['total_calls'] = train['total_day_calls']+train['total_eve_calls']+train['total_night_calls']+train['total_intl_calls']\n",
    "\n",
    "# Creating feature for total charges\n",
    "train['total_charges'] = train['total_day_charge']+train['total_eve_charge']+train['total_night_charge']+train['total_intl_charge']\n",
    "\n",
    "# Creating feature for total minutes\n",
    "train['total_minutes'] = train['total_day_minutes']+train['total_eve_minutes']+train['total_night_minutes']+train['total_intl_minutes']"
   ]
  },
  {
   "cell_type": "code",
   "execution_count": 59,
   "id": "bae62ce6",
   "metadata": {},
   "outputs": [
    {
     "data": {
      "text/plain": [
       "Index(['state', 'account_length', 'area_code', 'international_plan',\n",
       "       'voice_mail_plan', 'number_vmail_messages', 'total_day_minutes',\n",
       "       'total_day_calls', 'total_day_charge', 'total_eve_minutes',\n",
       "       'total_eve_calls', 'total_eve_charge', 'total_night_minutes',\n",
       "       'total_night_calls', 'total_night_charge', 'total_intl_minutes',\n",
       "       'total_intl_calls', 'total_intl_charge',\n",
       "       'number_customer_service_calls', 'churn', 'total_calls',\n",
       "       'total_charges', 'total_minutes'],\n",
       "      dtype='object')"
      ]
     },
     "execution_count": 59,
     "metadata": {},
     "output_type": "execute_result"
    }
   ],
   "source": [
    "# New columns of test data: total_calls, total_charges, total_minutes\n",
    "train.columns"
   ]
  },
  {
   "cell_type": "code",
   "execution_count": 60,
   "id": "e090b01c",
   "metadata": {
    "scrolled": true
   },
   "outputs": [],
   "source": [
    "# One hot encoding without transforming numerical features\n",
    "train_encoded = pd.get_dummies(data=train, columns=['state','area_code','international_plan','voice_mail_plan'])\n",
    "\n",
    "# Creating X variable\n",
    "X = train_encoded.drop('churn', axis=1)\n",
    "\n",
    "# Splitting the training and validation data \n",
    "X_train, X_test, y_train, y_test = train_test_split(X, y, test_size= 0.3, random_state = 42, stratify=y)\n"
   ]
  },
  {
   "cell_type": "markdown",
   "id": "eae7047c",
   "metadata": {},
   "source": [
    "### 8.2 Fit the training data\n"
   ]
  },
  {
   "cell_type": "code",
   "execution_count": 61,
   "id": "12952c81",
   "metadata": {},
   "outputs": [
    {
     "data": {
      "text/plain": [
       "{'gamma': 1,\n",
       " 'learning_rate': 0.3,\n",
       " 'max_depth': 7,\n",
       " 'n_estimators': 400,\n",
       " 'reg_lambda': 3}"
      ]
     },
     "execution_count": 61,
     "metadata": {},
     "output_type": "execute_result"
    }
   ],
   "source": [
    "xgb_grid.best_params_"
   ]
  },
  {
   "cell_type": "code",
   "execution_count": 62,
   "id": "f32338ff",
   "metadata": {},
   "outputs": [
    {
     "name": "stdout",
     "output_type": "stream",
     "text": [
      "Recall score: 0.8547486033519553\n",
      "Auc score:  0.932909921298373\n"
     ]
    },
    {
     "data": {
      "image/png": "[encoded data removed]",
      "text/plain": [
       "<Figure size 432x288 with 2 Axes>"
      ]
     },
     "metadata": {
      "needs_background": "light"
     },
     "output_type": "display_data"
    }
   ],
   "source": [
    "# Fit the training data with our best model\n",
    "xgb = XGBClassifier(gamma=1,\n",
    "             learning_rate=0.3,\n",
    "             max_depth=7,\n",
    "             n_estimators=400,\n",
    "             reg_lambda=3)\n",
    "\n",
    "xgb.fit(X_train, y_train, eval_metric='error')\n",
    "\n",
    "# Recall score\n",
    "xgb_recall = recall_score(y_test, xgb.predict(X_test))\n",
    "print('Recall score:' , xgb_recall)\n",
    "\n",
    "# Auc score\n",
    "xgb_auc = roc_auc_score(y_test, xgb.predict_proba(X_test)[:,1])\n",
    "print('Auc score: ', xgb_auc)\n",
    "# Confusion matrix\n",
    "plot_confusion_matrix(xgb, X_test, y_test, display_labels=['Not Churn','Churn'])\n",
    "plt.show()"
   ]
  },
  {
   "cell_type": "code",
   "execution_count": 70,
   "id": "51757a61",
   "metadata": {},
   "outputs": [
    {
     "name": "stdout",
     "output_type": "stream",
     "text": [
      "Accuracy score:  0.9788235294117648\n",
      "Recall score:  0.8547486033519553\n",
      "Auc score:  0.932909921298373\n"
     ]
    }
   ],
   "source": [
    "print('Accuracy score: ',accuracy_score(y_test, xgb.predict(X_test)))\n",
    "print('Recall score: ', recall_score(y_test, xgb.predict(X_test)))\n",
    "print('Auc score: ', roc_auc_score(y_test, xgb.predict_proba(X_test)[:,1]))"
   ]
  },
  {
   "cell_type": "markdown",
   "id": "bc1f5f76",
   "metadata": {},
   "source": [
    "On the training data we made an improvement after we did a feature engineering. And of the **179** people that churn, **153 (85%)** were correctly classified"
   ]
  },
  {
   "cell_type": "markdown",
   "id": "f214965c",
   "metadata": {},
   "source": [
    "### 7.3 Testing the model "
   ]
  },
  {
   "cell_type": "markdown",
   "id": "41c60f60",
   "metadata": {},
   "source": [
    "In this project we have unlabeled data, we will use this data to testing our best model. And we have to preprocess the test data in similar fashion with the training data"
   ]
  },
  {
   "cell_type": "code",
   "execution_count": 63,
   "id": "69a424e2",
   "metadata": {},
   "outputs": [
    {
     "data": {
      "text/html": [
       "<div>\n",
       "<style scoped>\n",
       "    .dataframe tbody tr th:only-of-type {\n",
       "        vertical-align: middle;\n",
       "    }\n",
       "\n",
       "    .dataframe tbody tr th {\n",
       "        vertical-align: top;\n",
       "    }\n",
       "\n",
       "    .dataframe thead th {\n",
       "        text-align: right;\n",
       "    }\n",
       "</style>\n",
       "<table border=\"1\" class=\"dataframe\">\n",
       "  <thead>\n",
       "    <tr style=\"text-align: right;\">\n",
       "      <th></th>\n",
       "      <th>id</th>\n",
       "      <th>state</th>\n",
       "      <th>account_length</th>\n",
       "      <th>area_code</th>\n",
       "      <th>international_plan</th>\n",
       "      <th>voice_mail_plan</th>\n",
       "      <th>number_vmail_messages</th>\n",
       "      <th>total_day_minutes</th>\n",
       "      <th>total_day_calls</th>\n",
       "      <th>total_day_charge</th>\n",
       "      <th>total_eve_minutes</th>\n",
       "      <th>total_eve_calls</th>\n",
       "      <th>total_eve_charge</th>\n",
       "      <th>total_night_minutes</th>\n",
       "      <th>total_night_calls</th>\n",
       "      <th>total_night_charge</th>\n",
       "      <th>total_intl_minutes</th>\n",
       "      <th>total_intl_calls</th>\n",
       "      <th>total_intl_charge</th>\n",
       "      <th>number_customer_service_calls</th>\n",
       "    </tr>\n",
       "  </thead>\n",
       "  <tbody>\n",
       "    <tr>\n",
       "      <th>0</th>\n",
       "      <td>1</td>\n",
       "      <td>KS</td>\n",
       "      <td>128</td>\n",
       "      <td>area_code_415</td>\n",
       "      <td>no</td>\n",
       "      <td>yes</td>\n",
       "      <td>25</td>\n",
       "      <td>265.1</td>\n",
       "      <td>110</td>\n",
       "      <td>45.07</td>\n",
       "      <td>197.4</td>\n",
       "      <td>99</td>\n",
       "      <td>16.78</td>\n",
       "      <td>244.7</td>\n",
       "      <td>91</td>\n",
       "      <td>11.01</td>\n",
       "      <td>10.0</td>\n",
       "      <td>3</td>\n",
       "      <td>2.70</td>\n",
       "      <td>1</td>\n",
       "    </tr>\n",
       "    <tr>\n",
       "      <th>1</th>\n",
       "      <td>2</td>\n",
       "      <td>AL</td>\n",
       "      <td>118</td>\n",
       "      <td>area_code_510</td>\n",
       "      <td>yes</td>\n",
       "      <td>no</td>\n",
       "      <td>0</td>\n",
       "      <td>223.4</td>\n",
       "      <td>98</td>\n",
       "      <td>37.98</td>\n",
       "      <td>220.6</td>\n",
       "      <td>101</td>\n",
       "      <td>18.75</td>\n",
       "      <td>203.9</td>\n",
       "      <td>118</td>\n",
       "      <td>9.18</td>\n",
       "      <td>6.3</td>\n",
       "      <td>6</td>\n",
       "      <td>1.70</td>\n",
       "      <td>0</td>\n",
       "    </tr>\n",
       "    <tr>\n",
       "      <th>2</th>\n",
       "      <td>3</td>\n",
       "      <td>IA</td>\n",
       "      <td>62</td>\n",
       "      <td>area_code_415</td>\n",
       "      <td>no</td>\n",
       "      <td>no</td>\n",
       "      <td>0</td>\n",
       "      <td>120.7</td>\n",
       "      <td>70</td>\n",
       "      <td>20.52</td>\n",
       "      <td>307.2</td>\n",
       "      <td>76</td>\n",
       "      <td>26.11</td>\n",
       "      <td>203.0</td>\n",
       "      <td>99</td>\n",
       "      <td>9.14</td>\n",
       "      <td>13.1</td>\n",
       "      <td>6</td>\n",
       "      <td>3.54</td>\n",
       "      <td>4</td>\n",
       "    </tr>\n",
       "    <tr>\n",
       "      <th>3</th>\n",
       "      <td>4</td>\n",
       "      <td>VT</td>\n",
       "      <td>93</td>\n",
       "      <td>area_code_510</td>\n",
       "      <td>no</td>\n",
       "      <td>no</td>\n",
       "      <td>0</td>\n",
       "      <td>190.7</td>\n",
       "      <td>114</td>\n",
       "      <td>32.42</td>\n",
       "      <td>218.2</td>\n",
       "      <td>111</td>\n",
       "      <td>18.55</td>\n",
       "      <td>129.6</td>\n",
       "      <td>121</td>\n",
       "      <td>5.83</td>\n",
       "      <td>8.1</td>\n",
       "      <td>3</td>\n",
       "      <td>2.19</td>\n",
       "      <td>3</td>\n",
       "    </tr>\n",
       "    <tr>\n",
       "      <th>4</th>\n",
       "      <td>5</td>\n",
       "      <td>NE</td>\n",
       "      <td>174</td>\n",
       "      <td>area_code_415</td>\n",
       "      <td>no</td>\n",
       "      <td>no</td>\n",
       "      <td>0</td>\n",
       "      <td>124.3</td>\n",
       "      <td>76</td>\n",
       "      <td>21.13</td>\n",
       "      <td>277.1</td>\n",
       "      <td>112</td>\n",
       "      <td>23.55</td>\n",
       "      <td>250.7</td>\n",
       "      <td>115</td>\n",
       "      <td>11.28</td>\n",
       "      <td>15.5</td>\n",
       "      <td>5</td>\n",
       "      <td>4.19</td>\n",
       "      <td>3</td>\n",
       "    </tr>\n",
       "  </tbody>\n",
       "</table>\n",
       "</div>"
      ],
      "text/plain": [
       "   id state  account_length      area_code international_plan voice_mail_plan  \\\n",
       "0   1    KS             128  area_code_415                 no             yes   \n",
       "1   2    AL             118  area_code_510                yes              no   \n",
       "2   3    IA              62  area_code_415                 no              no   \n",
       "3   4    VT              93  area_code_510                 no              no   \n",
       "4   5    NE             174  area_code_415                 no              no   \n",
       "\n",
       "   number_vmail_messages  total_day_minutes  total_day_calls  \\\n",
       "0                     25              265.1              110   \n",
       "1                      0              223.4               98   \n",
       "2                      0              120.7               70   \n",
       "3                      0              190.7              114   \n",
       "4                      0              124.3               76   \n",
       "\n",
       "   total_day_charge  total_eve_minutes  total_eve_calls  total_eve_charge  \\\n",
       "0             45.07              197.4               99             16.78   \n",
       "1             37.98              220.6              101             18.75   \n",
       "2             20.52              307.2               76             26.11   \n",
       "3             32.42              218.2              111             18.55   \n",
       "4             21.13              277.1              112             23.55   \n",
       "\n",
       "   total_night_minutes  total_night_calls  total_night_charge  \\\n",
       "0                244.7                 91               11.01   \n",
       "1                203.9                118                9.18   \n",
       "2                203.0                 99                9.14   \n",
       "3                129.6                121                5.83   \n",
       "4                250.7                115               11.28   \n",
       "\n",
       "   total_intl_minutes  total_intl_calls  total_intl_charge  \\\n",
       "0                10.0                 3               2.70   \n",
       "1                 6.3                 6               1.70   \n",
       "2                13.1                 6               3.54   \n",
       "3                 8.1                 3               2.19   \n",
       "4                15.5                 5               4.19   \n",
       "\n",
       "   number_customer_service_calls  \n",
       "0                              1  \n",
       "1                              0  \n",
       "2                              4  \n",
       "3                              3  \n",
       "4                              3  "
      ]
     },
     "execution_count": 63,
     "metadata": {},
     "output_type": "execute_result"
    }
   ],
   "source": [
    "# Test data\n",
    "test = pd.read_csv('test.csv')\n",
    "test.head()"
   ]
  },
  {
   "cell_type": "code",
   "execution_count": 64,
   "id": "91cb4452",
   "metadata": {},
   "outputs": [],
   "source": [
    "# Creating feature for total calls\n",
    "test['total_calls'] = test['total_day_calls']+test['total_eve_calls']+test['total_night_calls']+test['total_intl_calls']\n",
    "\n",
    "# Creating feature for total charges\n",
    "test['total_charges'] = test['total_day_charge']+test['total_eve_charge']+test['total_night_charge']+test['total_intl_charge']\n",
    "\n",
    "# Creating feature for total minutes\n",
    "test['total_minutes'] = test['total_day_minutes']+test['total_eve_minutes']+test['total_night_minutes']+test['total_intl_minutes']"
   ]
  },
  {
   "cell_type": "code",
   "execution_count": 65,
   "id": "9e46bfdf",
   "metadata": {},
   "outputs": [
    {
     "data": {
      "text/plain": [
       "Index(['id', 'state', 'account_length', 'area_code', 'international_plan',\n",
       "       'voice_mail_plan', 'number_vmail_messages', 'total_day_minutes',\n",
       "       'total_day_calls', 'total_day_charge', 'total_eve_minutes',\n",
       "       'total_eve_calls', 'total_eve_charge', 'total_night_minutes',\n",
       "       'total_night_calls', 'total_night_charge', 'total_intl_minutes',\n",
       "       'total_intl_calls', 'total_intl_charge',\n",
       "       'number_customer_service_calls', 'total_calls', 'total_charges',\n",
       "       'total_minutes'],\n",
       "      dtype='object')"
      ]
     },
     "execution_count": 65,
     "metadata": {},
     "output_type": "execute_result"
    }
   ],
   "source": [
    "# New columns of test data: total_calls, total_charges, total_minutes\n",
    "test.columns"
   ]
  },
  {
   "cell_type": "code",
   "execution_count": 66,
   "id": "d17e0dfa",
   "metadata": {},
   "outputs": [],
   "source": [
    "# One hot encoding without transforming numerical features\n",
    "test_encoded = pd.get_dummies(data=test, columns=['state','area_code','international_plan','voice_mail_plan'])\n",
    "\n",
    "# Creating X variable and drop id column\n",
    "X_new_test = test_encoded.drop('id', axis=1)\n"
   ]
  },
  {
   "cell_type": "code",
   "execution_count": 73,
   "id": "7de04959",
   "metadata": {},
   "outputs": [
    {
     "name": "stdout",
     "output_type": "stream",
     "text": [
      "0    656\n",
      "1     94\n",
      "Name: churn, dtype: int64\n"
     ]
    },
    {
     "data": {
      "text/html": [
       "<div>\n",
       "<style scoped>\n",
       "    .dataframe tbody tr th:only-of-type {\n",
       "        vertical-align: middle;\n",
       "    }\n",
       "\n",
       "    .dataframe tbody tr th {\n",
       "        vertical-align: top;\n",
       "    }\n",
       "\n",
       "    .dataframe thead th {\n",
       "        text-align: right;\n",
       "    }\n",
       "</style>\n",
       "<table border=\"1\" class=\"dataframe\">\n",
       "  <thead>\n",
       "    <tr style=\"text-align: right;\">\n",
       "      <th></th>\n",
       "      <th>id</th>\n",
       "      <th>churn</th>\n",
       "    </tr>\n",
       "  </thead>\n",
       "  <tbody>\n",
       "    <tr>\n",
       "      <th>0</th>\n",
       "      <td>1</td>\n",
       "      <td>0</td>\n",
       "    </tr>\n",
       "    <tr>\n",
       "      <th>1</th>\n",
       "      <td>2</td>\n",
       "      <td>0</td>\n",
       "    </tr>\n",
       "    <tr>\n",
       "      <th>2</th>\n",
       "      <td>3</td>\n",
       "      <td>0</td>\n",
       "    </tr>\n",
       "    <tr>\n",
       "      <th>3</th>\n",
       "      <td>4</td>\n",
       "      <td>0</td>\n",
       "    </tr>\n",
       "    <tr>\n",
       "      <th>4</th>\n",
       "      <td>5</td>\n",
       "      <td>0</td>\n",
       "    </tr>\n",
       "  </tbody>\n",
       "</table>\n",
       "</div>"
      ],
      "text/plain": [
       "   id  churn\n",
       "0   1      0\n",
       "1   2      0\n",
       "2   3      0\n",
       "3   4      0\n",
       "4   5      0"
      ]
     },
     "execution_count": 73,
     "metadata": {},
     "output_type": "execute_result"
    }
   ],
   "source": [
    "predict = xgb.predict(X_new_test)\n",
    "test['churn'] = predict \n",
    "\n",
    "df_out = test[['id','churn']]\n",
    "print(df_out['churn'].value_counts())\n",
    "\n",
    "df_out.head()"
   ]
  }
 ],
 "metadata": {
  "kernelspec": {
   "display_name": "Python 3 (ipykernel)",
   "language": "python",
   "name": "python3"
  },
  "language_info": {
   "codemirror_mode": {
    "name": "ipython",
    "version": 3
   },
   "file_extension": ".py",
   "mimetype": "text/x-python",
   "name": "python",
   "nbconvert_exporter": "python",
   "pygments_lexer": "ipython3",
   "version": "3.9.7"
  }
 },
 "nbformat": 4,
 "nbformat_minor": 5
}
